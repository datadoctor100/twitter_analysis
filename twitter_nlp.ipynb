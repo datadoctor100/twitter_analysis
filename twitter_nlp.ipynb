{
 "cells": [
  {
   "cell_type": "markdown",
   "id": "3ceaf65c",
   "metadata": {},
   "source": [
    "<a class = \"anchor\" id = \"top\"></a>\n",
    "\n",
    "# NLP\n",
    "## Source: Twitter\n",
    "---\n",
    "### Authors: Gordon Amoako, Zan Sadiq\n",
    "---\n",
    "\n",
    "Table of Contents:\n",
    "* [Data](#data)\n",
    "* [Pre-Processing](#eda)\n",
    "* [Networking](#network)\n",
    "* [NLP](#nlp)\n",
    "* [Conclusion](#end)\n",
    "---"
   ]
  },
  {
   "cell_type": "markdown",
   "id": "4d6eb274",
   "metadata": {},
   "source": [
    "## Data <a class = \"anchor\" id = \"data\"></a>"
   ]
  },
  {
   "cell_type": "code",
   "execution_count": 13,
   "id": "5ebf4dc1",
   "metadata": {},
   "outputs": [],
   "source": [
    "# Import libraries\n",
    "import pandas as pd\n",
    "import os\n",
    "from pyspark import SparkContext, SparkConf\n",
    "from pyspark.sql import SQLContext, SparkSession\n",
    "from pyspark.sql.types import StructType, StructField, DoubleType, IntegerType, StringType, ArrayType, FloatType\n",
    "import re\n",
    "import string\n",
    "from pyspark.sql.functions import udf, col, size, lit, explode, isnan, when, count\n",
    "from pyspark.ml.feature import HashingTF, IDF, Tokenizer, IndexToString, StringIndexer, VectorIndexer, CountVectorizer"
   ]
  },
  {
   "cell_type": "code",
   "execution_count": 5,
   "id": "7d47a62d",
   "metadata": {},
   "outputs": [
    {
     "data": {
      "text/plain": [
       "'/home/dataguy/Documents'"
      ]
     },
     "execution_count": 5,
     "metadata": {},
     "output_type": "execute_result"
    }
   ],
   "source": [
    "# Get wd\n",
    "os.getcwd()"
   ]
  },
  {
   "cell_type": "code",
   "execution_count": 6,
   "id": "8deedcd0",
   "metadata": {},
   "outputs": [
    {
     "name": "stdout",
     "output_type": "stream",
     "text": [
      "22/08/15 07:43:59 WARN Utils: Your hostname, computer resolves to a loopback address: 127.0.1.1; using 192.168.1.159 instead (on interface wlp0s20f3)\n",
      "22/08/15 07:43:59 WARN Utils: Set SPARK_LOCAL_IP if you need to bind to another address\n"
     ]
    },
    {
     "name": "stderr",
     "output_type": "stream",
     "text": [
      "Setting default log level to \"WARN\".\n",
      "To adjust logging level use sc.setLogLevel(newLevel). For SparkR, use setLogLevel(newLevel).\n"
     ]
    },
    {
     "name": "stdout",
     "output_type": "stream",
     "text": [
      "22/08/15 07:43:59 WARN NativeCodeLoader: Unable to load native-hadoop library for your platform... using builtin-java classes where applicable\n",
      "22/08/15 07:44:00 WARN Utils: Service 'SparkUI' could not bind on port 4040. Attempting port 4041.\n",
      "22/08/15 07:44:00 WARN Utils: Service 'SparkUI' could not bind on port 4041. Attempting port 4042.\n",
      "22/08/15 07:44:00 WARN Utils: Service 'SparkUI' could not bind on port 4042. Attempting port 4043.\n",
      "22/08/15 07:44:00 WARN Utils: Service 'SparkUI' could not bind on port 4043. Attempting port 4044.\n",
      "22/08/15 07:44:00 WARN Utils: Service 'SparkUI' could not bind on port 4044. Attempting port 4045.\n",
      "22/08/15 07:44:00 WARN Utils: Service 'SparkUI' could not bind on port 4045. Attempting port 4046.\n",
      "22/08/15 07:44:00 WARN Utils: Service 'SparkUI' could not bind on port 4046. Attempting port 4047.\n"
     ]
    }
   ],
   "source": [
    "# Initialize spark\n",
    "sc = SparkContext.getOrCreate(SparkConf().setMaster(\"local[*]\"))\n",
    "spark = SparkSession.builder.getOrCreate()"
   ]
  },
  {
   "cell_type": "code",
   "execution_count": 8,
   "id": "9f8ba15e",
   "metadata": {},
   "outputs": [
    {
     "name": "stderr",
     "output_type": "stream",
     "text": [
      "[Stage 0:====================================================>    (65 + 5) / 70]\r"
     ]
    },
    {
     "name": "stdout",
     "output_type": "stream",
     "text": [
      "22/08/15 07:45:06 WARN package: Truncated the string representation of a plan since it was too large. This behavior can be adjusted by setting 'spark.sql.debug.maxToStringFields'.\n"
     ]
    },
    {
     "name": "stderr",
     "output_type": "stream",
     "text": [
      "\r",
      "                                                                                \r"
     ]
    }
   ],
   "source": [
    "df = spark.read.json('/home/dataguy/news.json')"
   ]
  },
  {
   "cell_type": "code",
   "execution_count": 15,
   "id": "713242c5",
   "metadata": {},
   "outputs": [
    {
     "name": "stdout",
     "output_type": "stream",
     "text": [
      "root\n",
      " |-- _type: string (nullable = true)\n",
      " |-- cashtags: array (nullable = true)\n",
      " |    |-- element: string (containsNull = true)\n",
      " |-- content: string (nullable = true)\n",
      " |-- conversationId: long (nullable = true)\n",
      " |-- coordinates: struct (nullable = true)\n",
      " |    |-- _type: string (nullable = true)\n",
      " |    |-- latitude: double (nullable = true)\n",
      " |    |-- longitude: double (nullable = true)\n",
      " |-- date: string (nullable = true)\n",
      " |-- hashtags: array (nullable = true)\n",
      " |    |-- element: string (containsNull = true)\n",
      " |-- id: long (nullable = true)\n",
      " |-- inReplyToTweetId: long (nullable = true)\n",
      " |-- inReplyToUser: struct (nullable = true)\n",
      " |    |-- _type: string (nullable = true)\n",
      " |    |-- created: string (nullable = true)\n",
      " |    |-- description: string (nullable = true)\n",
      " |    |-- descriptionUrls: array (nullable = true)\n",
      " |    |    |-- element: struct (containsNull = true)\n",
      " |    |    |    |-- indices: array (nullable = true)\n",
      " |    |    |    |    |-- element: long (containsNull = true)\n",
      " |    |    |    |-- tcourl: string (nullable = true)\n",
      " |    |    |    |-- text: string (nullable = true)\n",
      " |    |    |    |-- url: string (nullable = true)\n",
      " |    |-- displayname: string (nullable = true)\n",
      " |    |-- favouritesCount: long (nullable = true)\n",
      " |    |-- followersCount: long (nullable = true)\n",
      " |    |-- friendsCount: long (nullable = true)\n",
      " |    |-- id: long (nullable = true)\n",
      " |    |-- label: struct (nullable = true)\n",
      " |    |    |-- _type: string (nullable = true)\n",
      " |    |    |-- badgeUrl: string (nullable = true)\n",
      " |    |    |-- description: string (nullable = true)\n",
      " |    |    |-- longDescription: string (nullable = true)\n",
      " |    |    |-- url: string (nullable = true)\n",
      " |    |-- linkTcourl: string (nullable = true)\n",
      " |    |-- linkUrl: string (nullable = true)\n",
      " |    |-- listedCount: long (nullable = true)\n",
      " |    |-- location: string (nullable = true)\n",
      " |    |-- mediaCount: long (nullable = true)\n",
      " |    |-- profileBannerUrl: string (nullable = true)\n",
      " |    |-- profileImageUrl: string (nullable = true)\n",
      " |    |-- protected: boolean (nullable = true)\n",
      " |    |-- rawDescription: string (nullable = true)\n",
      " |    |-- statusesCount: long (nullable = true)\n",
      " |    |-- url: string (nullable = true)\n",
      " |    |-- username: string (nullable = true)\n",
      " |    |-- verified: boolean (nullable = true)\n",
      " |-- lang: string (nullable = true)\n",
      " |-- likeCount: long (nullable = true)\n",
      " |-- media: array (nullable = true)\n",
      " |    |-- element: struct (containsNull = true)\n",
      " |    |    |-- _type: string (nullable = true)\n",
      " |    |    |-- duration: double (nullable = true)\n",
      " |    |    |-- fullUrl: string (nullable = true)\n",
      " |    |    |-- previewUrl: string (nullable = true)\n",
      " |    |    |-- thumbnailUrl: string (nullable = true)\n",
      " |    |    |-- variants: array (nullable = true)\n",
      " |    |    |    |-- element: struct (containsNull = true)\n",
      " |    |    |    |    |-- _type: string (nullable = true)\n",
      " |    |    |    |    |-- bitrate: long (nullable = true)\n",
      " |    |    |    |    |-- contentType: string (nullable = true)\n",
      " |    |    |    |    |-- url: string (nullable = true)\n",
      " |    |    |-- views: long (nullable = true)\n",
      " |-- mentionedUsers: array (nullable = true)\n",
      " |    |-- element: struct (containsNull = true)\n",
      " |    |    |-- _type: string (nullable = true)\n",
      " |    |    |-- created: string (nullable = true)\n",
      " |    |    |-- description: string (nullable = true)\n",
      " |    |    |-- descriptionUrls: string (nullable = true)\n",
      " |    |    |-- displayname: string (nullable = true)\n",
      " |    |    |-- favouritesCount: string (nullable = true)\n",
      " |    |    |-- followersCount: string (nullable = true)\n",
      " |    |    |-- friendsCount: string (nullable = true)\n",
      " |    |    |-- id: long (nullable = true)\n",
      " |    |    |-- label: string (nullable = true)\n",
      " |    |    |-- linkTcourl: string (nullable = true)\n",
      " |    |    |-- linkUrl: string (nullable = true)\n",
      " |    |    |-- listedCount: string (nullable = true)\n",
      " |    |    |-- location: string (nullable = true)\n",
      " |    |    |-- mediaCount: string (nullable = true)\n",
      " |    |    |-- profileBannerUrl: string (nullable = true)\n",
      " |    |    |-- profileImageUrl: string (nullable = true)\n",
      " |    |    |-- protected: string (nullable = true)\n",
      " |    |    |-- rawDescription: string (nullable = true)\n",
      " |    |    |-- statusesCount: string (nullable = true)\n",
      " |    |    |-- url: string (nullable = true)\n",
      " |    |    |-- username: string (nullable = true)\n",
      " |    |    |-- verified: string (nullable = true)\n",
      " |-- outlinks: array (nullable = true)\n",
      " |    |-- element: string (containsNull = true)\n",
      " |-- place: struct (nullable = true)\n",
      " |    |-- _type: string (nullable = true)\n",
      " |    |-- country: string (nullable = true)\n",
      " |    |-- countryCode: string (nullable = true)\n",
      " |    |-- fullName: string (nullable = true)\n",
      " |    |-- name: string (nullable = true)\n",
      " |    |-- type: string (nullable = true)\n",
      " |-- quoteCount: long (nullable = true)\n",
      " |-- quotedTweet: struct (nullable = true)\n",
      " |    |-- _type: string (nullable = true)\n",
      " |    |-- cashtags: array (nullable = true)\n",
      " |    |    |-- element: string (containsNull = true)\n",
      " |    |-- content: string (nullable = true)\n",
      " |    |-- conversationId: long (nullable = true)\n",
      " |    |-- coordinates: struct (nullable = true)\n",
      " |    |    |-- _type: string (nullable = true)\n",
      " |    |    |-- latitude: double (nullable = true)\n",
      " |    |    |-- longitude: double (nullable = true)\n",
      " |    |-- date: string (nullable = true)\n",
      " |    |-- hashtags: array (nullable = true)\n",
      " |    |    |-- element: string (containsNull = true)\n",
      " |    |-- id: long (nullable = true)\n",
      " |    |-- inReplyToTweetId: long (nullable = true)\n",
      " |    |-- inReplyToUser: struct (nullable = true)\n",
      " |    |    |-- _type: string (nullable = true)\n",
      " |    |    |-- created: string (nullable = true)\n",
      " |    |    |-- description: string (nullable = true)\n",
      " |    |    |-- descriptionUrls: array (nullable = true)\n",
      " |    |    |    |-- element: struct (containsNull = true)\n",
      " |    |    |    |    |-- indices: array (nullable = true)\n",
      " |    |    |    |    |    |-- element: long (containsNull = true)\n",
      " |    |    |    |    |-- tcourl: string (nullable = true)\n",
      " |    |    |    |    |-- text: string (nullable = true)\n",
      " |    |    |    |    |-- url: string (nullable = true)\n",
      " |    |    |-- displayname: string (nullable = true)\n",
      " |    |    |-- favouritesCount: long (nullable = true)\n",
      " |    |    |-- followersCount: long (nullable = true)\n",
      " |    |    |-- friendsCount: long (nullable = true)\n",
      " |    |    |-- id: long (nullable = true)\n",
      " |    |    |-- label: struct (nullable = true)\n",
      " |    |    |    |-- _type: string (nullable = true)\n",
      " |    |    |    |-- badgeUrl: string (nullable = true)\n",
      " |    |    |    |-- description: string (nullable = true)\n",
      " |    |    |    |-- longDescription: string (nullable = true)\n",
      " |    |    |    |-- url: string (nullable = true)\n",
      " |    |    |-- linkTcourl: string (nullable = true)\n",
      " |    |    |-- linkUrl: string (nullable = true)\n",
      " |    |    |-- listedCount: long (nullable = true)\n",
      " |    |    |-- location: string (nullable = true)\n",
      " |    |    |-- mediaCount: long (nullable = true)\n",
      " |    |    |-- profileBannerUrl: string (nullable = true)\n",
      " |    |    |-- profileImageUrl: string (nullable = true)\n",
      " |    |    |-- protected: boolean (nullable = true)\n",
      " |    |    |-- rawDescription: string (nullable = true)\n",
      " |    |    |-- statusesCount: long (nullable = true)\n",
      " |    |    |-- url: string (nullable = true)\n",
      " |    |    |-- username: string (nullable = true)\n",
      " |    |    |-- verified: boolean (nullable = true)\n",
      " |    |-- lang: string (nullable = true)\n",
      " |    |-- likeCount: long (nullable = true)\n",
      " |    |-- media: array (nullable = true)\n",
      " |    |    |-- element: struct (containsNull = true)\n",
      " |    |    |    |-- _type: string (nullable = true)\n",
      " |    |    |    |-- duration: double (nullable = true)\n",
      " |    |    |    |-- fullUrl: string (nullable = true)\n",
      " |    |    |    |-- previewUrl: string (nullable = true)\n",
      " |    |    |    |-- thumbnailUrl: string (nullable = true)\n",
      " |    |    |    |-- variants: array (nullable = true)\n",
      " |    |    |    |    |-- element: struct (containsNull = true)\n",
      " |    |    |    |    |    |-- _type: string (nullable = true)\n",
      " |    |    |    |    |    |-- bitrate: long (nullable = true)\n",
      " |    |    |    |    |    |-- contentType: string (nullable = true)\n",
      " |    |    |    |    |    |-- url: string (nullable = true)\n",
      " |    |    |    |-- views: long (nullable = true)\n",
      " |    |-- mentionedUsers: array (nullable = true)\n",
      " |    |    |-- element: struct (containsNull = true)\n",
      " |    |    |    |-- _type: string (nullable = true)\n",
      " |    |    |    |-- created: string (nullable = true)\n",
      " |    |    |    |-- description: string (nullable = true)\n",
      " |    |    |    |-- descriptionUrls: string (nullable = true)\n",
      " |    |    |    |-- displayname: string (nullable = true)\n",
      " |    |    |    |-- favouritesCount: string (nullable = true)\n",
      " |    |    |    |-- followersCount: string (nullable = true)\n",
      " |    |    |    |-- friendsCount: string (nullable = true)\n",
      " |    |    |    |-- id: long (nullable = true)\n",
      " |    |    |    |-- label: string (nullable = true)\n",
      " |    |    |    |-- linkTcourl: string (nullable = true)\n",
      " |    |    |    |-- linkUrl: string (nullable = true)\n",
      " |    |    |    |-- listedCount: string (nullable = true)\n",
      " |    |    |    |-- location: string (nullable = true)\n",
      " |    |    |    |-- mediaCount: string (nullable = true)\n",
      " |    |    |    |-- profileBannerUrl: string (nullable = true)\n",
      " |    |    |    |-- profileImageUrl: string (nullable = true)\n",
      " |    |    |    |-- protected: string (nullable = true)\n",
      " |    |    |    |-- rawDescription: string (nullable = true)\n",
      " |    |    |    |-- statusesCount: string (nullable = true)\n",
      " |    |    |    |-- url: string (nullable = true)\n",
      " |    |    |    |-- username: string (nullable = true)\n",
      " |    |    |    |-- verified: string (nullable = true)\n",
      " |    |-- outlinks: array (nullable = true)\n",
      " |    |    |-- element: string (containsNull = true)\n",
      " |    |-- place: struct (nullable = true)\n",
      " |    |    |-- _type: string (nullable = true)\n",
      " |    |    |-- country: string (nullable = true)\n",
      " |    |    |-- countryCode: string (nullable = true)\n",
      " |    |    |-- fullName: string (nullable = true)\n",
      " |    |    |-- name: string (nullable = true)\n",
      " |    |    |-- type: string (nullable = true)\n",
      " |    |-- quoteCount: long (nullable = true)\n",
      " |    |-- quotedTweet: struct (nullable = true)\n",
      " |    |    |-- _type: string (nullable = true)\n",
      " |    |    |-- cashtags: string (nullable = true)\n",
      " |    |    |-- content: string (nullable = true)\n",
      " |    |    |-- conversationId: long (nullable = true)\n",
      " |    |    |-- coordinates: string (nullable = true)\n",
      " |    |    |-- date: string (nullable = true)\n",
      " |    |    |-- hashtags: array (nullable = true)\n",
      " |    |    |    |-- element: string (containsNull = true)\n",
      " |    |    |-- id: long (nullable = true)\n",
      " |    |    |-- inReplyToTweetId: string (nullable = true)\n",
      " |    |    |-- inReplyToUser: string (nullable = true)\n",
      " |    |    |-- lang: string (nullable = true)\n",
      " |    |    |-- likeCount: long (nullable = true)\n",
      " |    |    |-- media: array (nullable = true)\n",
      " |    |    |    |-- element: struct (containsNull = true)\n",
      " |    |    |    |    |-- _type: string (nullable = true)\n",
      " |    |    |    |    |-- duration: double (nullable = true)\n",
      " |    |    |    |    |-- fullUrl: string (nullable = true)\n",
      " |    |    |    |    |-- previewUrl: string (nullable = true)\n",
      " |    |    |    |    |-- thumbnailUrl: string (nullable = true)\n",
      " |    |    |    |    |-- variants: array (nullable = true)\n",
      " |    |    |    |    |    |-- element: struct (containsNull = true)\n",
      " |    |    |    |    |    |    |-- _type: string (nullable = true)\n",
      " |    |    |    |    |    |    |-- bitrate: long (nullable = true)\n",
      " |    |    |    |    |    |    |-- contentType: string (nullable = true)\n",
      " |    |    |    |    |    |    |-- url: string (nullable = true)\n",
      " |    |    |    |    |-- views: long (nullable = true)\n",
      " |    |    |-- mentionedUsers: array (nullable = true)\n",
      " |    |    |    |-- element: struct (containsNull = true)\n",
      " |    |    |    |    |-- _type: string (nullable = true)\n",
      " |    |    |    |    |-- created: string (nullable = true)\n",
      " |    |    |    |    |-- description: string (nullable = true)\n",
      " |    |    |    |    |-- descriptionUrls: string (nullable = true)\n",
      " |    |    |    |    |-- displayname: string (nullable = true)\n",
      " |    |    |    |    |-- favouritesCount: string (nullable = true)\n",
      " |    |    |    |    |-- followersCount: string (nullable = true)\n",
      " |    |    |    |    |-- friendsCount: string (nullable = true)\n",
      " |    |    |    |    |-- id: long (nullable = true)\n",
      " |    |    |    |    |-- label: string (nullable = true)\n",
      " |    |    |    |    |-- linkTcourl: string (nullable = true)\n",
      " |    |    |    |    |-- linkUrl: string (nullable = true)\n",
      " |    |    |    |    |-- listedCount: string (nullable = true)\n",
      " |    |    |    |    |-- location: string (nullable = true)\n",
      " |    |    |    |    |-- mediaCount: string (nullable = true)\n",
      " |    |    |    |    |-- profileBannerUrl: string (nullable = true)\n",
      " |    |    |    |    |-- profileImageUrl: string (nullable = true)\n",
      " |    |    |    |    |-- protected: string (nullable = true)\n",
      " |    |    |    |    |-- rawDescription: string (nullable = true)\n",
      " |    |    |    |    |-- statusesCount: string (nullable = true)\n",
      " |    |    |    |    |-- url: string (nullable = true)\n",
      " |    |    |    |    |-- username: string (nullable = true)\n",
      " |    |    |    |    |-- verified: string (nullable = true)\n",
      " |    |    |-- outlinks: array (nullable = true)\n",
      " |    |    |    |-- element: string (containsNull = true)\n",
      " |    |    |-- place: string (nullable = true)\n",
      " |    |    |-- quoteCount: long (nullable = true)\n",
      " |    |    |-- quotedTweet: string (nullable = true)\n",
      " |    |    |-- renderedContent: string (nullable = true)\n",
      " |    |    |-- replyCount: long (nullable = true)\n",
      " |    |    |-- retweetCount: long (nullable = true)\n",
      " |    |    |-- retweetedTweet: string (nullable = true)\n",
      " |    |    |-- source: string (nullable = true)\n",
      " |    |    |-- sourceLabel: string (nullable = true)\n",
      " |    |    |-- sourceUrl: string (nullable = true)\n",
      " |    |    |-- tcooutlinks: array (nullable = true)\n",
      " |    |    |    |-- element: string (containsNull = true)\n",
      " |    |    |-- url: string (nullable = true)\n",
      " |    |    |-- user: struct (nullable = true)\n",
      " |    |    |    |-- _type: string (nullable = true)\n",
      " |    |    |    |-- created: string (nullable = true)\n",
      " |    |    |    |-- description: string (nullable = true)\n",
      " |    |    |    |-- descriptionUrls: array (nullable = true)\n",
      " |    |    |    |    |-- element: struct (containsNull = true)\n",
      " |    |    |    |    |    |-- indices: array (nullable = true)\n",
      " |    |    |    |    |    |    |-- element: long (containsNull = true)\n",
      " |    |    |    |    |    |-- tcourl: string (nullable = true)\n",
      " |    |    |    |    |    |-- text: string (nullable = true)\n",
      " |    |    |    |    |    |-- url: string (nullable = true)\n",
      " |    |    |    |-- displayname: string (nullable = true)\n",
      " |    |    |    |-- favouritesCount: long (nullable = true)\n",
      " |    |    |    |-- followersCount: long (nullable = true)\n",
      " |    |    |    |-- friendsCount: long (nullable = true)\n",
      " |    |    |    |-- id: long (nullable = true)\n",
      " |    |    |    |-- label: string (nullable = true)\n",
      " |    |    |    |-- linkTcourl: string (nullable = true)\n",
      " |    |    |    |-- linkUrl: string (nullable = true)\n",
      " |    |    |    |-- listedCount: long (nullable = true)\n",
      " |    |    |    |-- location: string (nullable = true)\n",
      " |    |    |    |-- mediaCount: long (nullable = true)\n",
      " |    |    |    |-- profileBannerUrl: string (nullable = true)\n",
      " |    |    |    |-- profileImageUrl: string (nullable = true)\n",
      " |    |    |    |-- protected: boolean (nullable = true)\n",
      " |    |    |    |-- rawDescription: string (nullable = true)\n",
      " |    |    |    |-- statusesCount: long (nullable = true)\n",
      " |    |    |    |-- url: string (nullable = true)\n",
      " |    |    |    |-- username: string (nullable = true)\n",
      " |    |    |    |-- verified: boolean (nullable = true)\n",
      " |    |-- renderedContent: string (nullable = true)\n",
      " |    |-- replyCount: long (nullable = true)\n",
      " |    |-- retweetCount: long (nullable = true)\n",
      " |    |-- retweetedTweet: string (nullable = true)\n",
      " |    |-- source: string (nullable = true)\n",
      " |    |-- sourceLabel: string (nullable = true)\n",
      " |    |-- sourceUrl: string (nullable = true)\n",
      " |    |-- tcooutlinks: array (nullable = true)\n",
      " |    |    |-- element: string (containsNull = true)\n",
      " |    |-- url: string (nullable = true)\n",
      " |    |-- user: struct (nullable = true)\n",
      " |    |    |-- _type: string (nullable = true)\n",
      " |    |    |-- created: string (nullable = true)\n",
      " |    |    |-- description: string (nullable = true)\n",
      " |    |    |-- descriptionUrls: array (nullable = true)\n",
      " |    |    |    |-- element: struct (containsNull = true)\n",
      " |    |    |    |    |-- indices: array (nullable = true)\n",
      " |    |    |    |    |    |-- element: long (containsNull = true)\n",
      " |    |    |    |    |-- tcourl: string (nullable = true)\n",
      " |    |    |    |    |-- text: string (nullable = true)\n",
      " |    |    |    |    |-- url: string (nullable = true)\n",
      " |    |    |-- displayname: string (nullable = true)\n",
      " |    |    |-- favouritesCount: long (nullable = true)\n",
      " |    |    |-- followersCount: long (nullable = true)\n",
      " |    |    |-- friendsCount: long (nullable = true)\n",
      " |    |    |-- id: long (nullable = true)\n",
      " |    |    |-- label: struct (nullable = true)\n",
      " |    |    |    |-- _type: string (nullable = true)\n",
      " |    |    |    |-- badgeUrl: string (nullable = true)\n",
      " |    |    |    |-- description: string (nullable = true)\n",
      " |    |    |    |-- longDescription: string (nullable = true)\n",
      " |    |    |    |-- url: string (nullable = true)\n",
      " |    |    |-- linkTcourl: string (nullable = true)\n",
      " |    |    |-- linkUrl: string (nullable = true)\n",
      " |    |    |-- listedCount: long (nullable = true)\n",
      " |    |    |-- location: string (nullable = true)\n",
      " |    |    |-- mediaCount: long (nullable = true)\n",
      " |    |    |-- profileBannerUrl: string (nullable = true)\n",
      " |    |    |-- profileImageUrl: string (nullable = true)\n",
      " |    |    |-- protected: boolean (nullable = true)\n",
      " |    |    |-- rawDescription: string (nullable = true)\n",
      " |    |    |-- statusesCount: long (nullable = true)\n",
      " |    |    |-- url: string (nullable = true)\n",
      " |    |    |-- username: string (nullable = true)\n",
      " |    |    |-- verified: boolean (nullable = true)\n",
      " |-- renderedContent: string (nullable = true)\n",
      " |-- replyCount: long (nullable = true)\n",
      " |-- retweetCount: long (nullable = true)\n",
      " |-- retweetedTweet: string (nullable = true)\n",
      " |-- source: string (nullable = true)\n",
      " |-- sourceLabel: string (nullable = true)\n",
      " |-- sourceUrl: string (nullable = true)\n",
      " |-- tcooutlinks: array (nullable = true)\n",
      " |    |-- element: string (containsNull = true)\n",
      " |-- url: string (nullable = true)\n",
      " |-- user: struct (nullable = true)\n",
      " |    |-- _type: string (nullable = true)\n",
      " |    |-- created: string (nullable = true)\n",
      " |    |-- description: string (nullable = true)\n",
      " |    |-- descriptionUrls: array (nullable = true)\n",
      " |    |    |-- element: struct (containsNull = true)\n",
      " |    |    |    |-- indices: array (nullable = true)\n",
      " |    |    |    |    |-- element: long (containsNull = true)\n",
      " |    |    |    |-- tcourl: string (nullable = true)\n",
      " |    |    |    |-- text: string (nullable = true)\n",
      " |    |    |    |-- url: string (nullable = true)\n",
      " |    |-- displayname: string (nullable = true)\n",
      " |    |-- favouritesCount: long (nullable = true)\n",
      " |    |-- followersCount: long (nullable = true)\n",
      " |    |-- friendsCount: long (nullable = true)\n",
      " |    |-- id: long (nullable = true)\n",
      " |    |-- label: struct (nullable = true)\n",
      " |    |    |-- _type: string (nullable = true)\n",
      " |    |    |-- badgeUrl: string (nullable = true)\n",
      " |    |    |-- description: string (nullable = true)\n",
      " |    |    |-- longDescription: string (nullable = true)\n",
      " |    |    |-- url: string (nullable = true)\n",
      " |    |-- linkTcourl: string (nullable = true)\n",
      " |    |-- linkUrl: string (nullable = true)\n",
      " |    |-- listedCount: long (nullable = true)\n",
      " |    |-- location: string (nullable = true)\n",
      " |    |-- mediaCount: long (nullable = true)\n",
      " |    |-- profileBannerUrl: string (nullable = true)\n",
      " |    |-- profileImageUrl: string (nullable = true)\n",
      " |    |-- protected: boolean (nullable = true)\n",
      " |    |-- rawDescription: string (nullable = true)\n",
      " |    |-- statusesCount: long (nullable = true)\n",
      " |    |-- url: string (nullable = true)\n",
      " |    |-- username: string (nullable = true)\n",
      " |    |-- verified: boolean (nullable = true)\n",
      "\n"
     ]
    }
   ],
   "source": [
    "df.printSchema()"
   ]
  },
  {
   "cell_type": "code",
   "execution_count": 10,
   "id": "1e85c5ce",
   "metadata": {},
   "outputs": [
    {
     "name": "stderr",
     "output_type": "stream",
     "text": [
      "                                                                                \r"
     ]
    },
    {
     "data": {
      "text/plain": [
       "2770882"
      ]
     },
     "execution_count": 10,
     "metadata": {},
     "output_type": "execute_result"
    }
   ],
   "source": [
    "df.count()"
   ]
  },
  {
   "cell_type": "code",
   "execution_count": 12,
   "id": "bad1794d",
   "metadata": {},
   "outputs": [
    {
     "name": "stdout",
     "output_type": "stream",
     "text": [
      "+------------------------------+--------+----------------------------------------------------+-------------------+-----------+-------------------------+--------+-------------------+-------------------+-----------------------------------------------------------------------------------------------------------------------------------------------------------------------------------------------------------------+----+---------+-----+-------------------------------------------------------------------------------------------------------------------------------------------------------------------------------------------------------------------+--------+-----+----------+-----------+----------------------------------------------------+----------+------------+--------------+------------------------------------------------------------------------------------+-------------------+-----------------------------------+-----------+------------------------------------------------------------+------------------------------------------------------------------------------------------------------------------------------------------------------------------------------------------------------------------------------------------------------------------------------------------------------------------------------------------------------------------------------------------------------------------------------------------------------------------------------------------------------------------------------------------------------------------------------------------------------------------------------------------------------------------------------------------------------------------+\n",
      "|_type                         |cashtags|content                                             |conversationId     |coordinates|date                     |hashtags|id                 |inReplyToTweetId   |inReplyToUser                                                                                                                                                                                                    |lang|likeCount|media|mentionedUsers                                                                                                                                                                                                     |outlinks|place|quoteCount|quotedTweet|renderedContent                                     |replyCount|retweetCount|retweetedTweet|source                                                                              |sourceLabel        |sourceUrl                          |tcooutlinks|url                                                         |user                                                                                                                                                                                                                                                                                                                                                                                                                                                                                                                                                                                                                                                                                                              |\n",
      "+------------------------------+--------+----------------------------------------------------+-------------------+-----------+-------------------------+--------+-------------------+-------------------+-----------------------------------------------------------------------------------------------------------------------------------------------------------------------------------------------------------------+----+---------+-----+-------------------------------------------------------------------------------------------------------------------------------------------------------------------------------------------------------------------+--------+-----+----------+-----------+----------------------------------------------------+----------+------------+--------------+------------------------------------------------------------------------------------+-------------------+-----------------------------------+-----------+------------------------------------------------------------+------------------------------------------------------------------------------------------------------------------------------------------------------------------------------------------------------------------------------------------------------------------------------------------------------------------------------------------------------------------------------------------------------------------------------------------------------------------------------------------------------------------------------------------------------------------------------------------------------------------------------------------------------------------------------------------------------------------+\n",
      "|snscrape.modules.twitter.Tweet|null    |@nytpolitics Finally some great news, hope they lose|1558537897850060806|null       |2022-08-14T15:51:17+00:00|null    |1558843711898935298|1558537897850060806|{snscrape.modules.twitter.User, null, null, null, NYT Politics, null, null, null, 14434063, null, null, null, null, null, null, null, null, null, null, null, https://twitter.com/nytpolitics, nytpolitics, null}|en  |0        |null |[{snscrape.modules.twitter.User, null, null, null, NYT Politics, null, null, null, 14434063, null, null, null, null, null, null, null, null, null, null, null, https://twitter.com/nytpolitics, nytpolitics, null}]|null    |null |0         |null       |@nytpolitics Finally some great news, hope they lose|0         |0           |null          |<a href=\"http://twitter.com/download/android\" rel=\"nofollow\">Twitter for Android</a>|Twitter for Android|http://twitter.com/download/android|null       |https://twitter.com/SquireAlright/status/1558843711898935298|{snscrape.modules.twitter.User, 2020-03-16T20:53:05+00:00, Sick of corrupt Tory liars, endless slogans and corrupt Tory propagandists. Vote them ALL out ASAFP. Sweary, not sure why you want to follow. GIFs blocked., null, Never Trust A Tory. Ever!, 76282, 717, 565, 1239655902023757832, null, null, null, 5, , 767, https://pbs.twimg.com/profile_banners/1239655902023757832/1639583180, https://pbs.twimg.com/profile_images/1488790148586348548/kV68MnW2_normal.jpg, false, Sick of corrupt Tory liars, endless slogans and corrupt Tory propagandists. Vote them ALL out ASAFP. Sweary, not sure why you want to follow. GIFs blocked., 28675, https://twitter.com/SquireAlright, SquireAlright, false}|\n",
      "+------------------------------+--------+----------------------------------------------------+-------------------+-----------+-------------------------+--------+-------------------+-------------------+-----------------------------------------------------------------------------------------------------------------------------------------------------------------------------------------------------------------+----+---------+-----+-------------------------------------------------------------------------------------------------------------------------------------------------------------------------------------------------------------------+--------+-----+----------+-----------+----------------------------------------------------+----------+------------+--------------+------------------------------------------------------------------------------------+-------------------+-----------------------------------+-----------+------------------------------------------------------------+------------------------------------------------------------------------------------------------------------------------------------------------------------------------------------------------------------------------------------------------------------------------------------------------------------------------------------------------------------------------------------------------------------------------------------------------------------------------------------------------------------------------------------------------------------------------------------------------------------------------------------------------------------------------------------------------------------------+\n",
      "only showing top 1 row\n",
      "\n"
     ]
    }
   ],
   "source": [
    "df.show(1, False)"
   ]
  },
  {
   "cell_type": "code",
   "execution_count": 14,
   "id": "63eff7c6",
   "metadata": {},
   "outputs": [
    {
     "ename": "AnalysisException",
     "evalue": "cannot resolve 'isnan(cashtags)' due to data type mismatch: argument 1 requires (double or float) type, however, 'cashtags' is of array<string> type.;\n'Aggregate [count(CASE WHEN (isnan(cast(_type#8 as double)) OR isnull(_type#8)) THEN _type END) AS _type#240L, count(CASE WHEN (isnan(cashtags#9) OR isnull(cashtags#9)) THEN cashtags END) AS cashtags#242, count(CASE WHEN (isnan(cast(content#10 as double)) OR isnull(content#10)) THEN content END) AS content#244L, count(CASE WHEN (isnan(cast(conversationId#11L as double)) OR isnull(conversationId#11L)) THEN conversationId END) AS conversationId#246L, count(CASE WHEN (isnan(coordinates#12) OR isnull(coordinates#12)) THEN coordinates END) AS coordinates#248, count(CASE WHEN (isnan(cast(date#13 as double)) OR isnull(date#13)) THEN date END) AS date#250L, count(CASE WHEN (isnan(hashtags#14) OR isnull(hashtags#14)) THEN hashtags END) AS hashtags#252, count(CASE WHEN (isnan(cast(id#15L as double)) OR isnull(id#15L)) THEN id END) AS id#254L, count(CASE WHEN (isnan(cast(inReplyToTweetId#16L as double)) OR isnull(inReplyToTweetId#16L)) THEN inReplyToTweetId END) AS inReplyToTweetId#256L, count(CASE WHEN (isnan(inReplyToUser#17) OR isnull(inReplyToUser#17)) THEN inReplyToUser END) AS inReplyToUser#258, count(CASE WHEN (isnan(cast(lang#18 as double)) OR isnull(lang#18)) THEN lang END) AS lang#260L, count(CASE WHEN (isnan(cast(likeCount#19L as double)) OR isnull(likeCount#19L)) THEN likeCount END) AS likeCount#262L, count(CASE WHEN (isnan(media#20) OR isnull(media#20)) THEN media END) AS media#264, count(CASE WHEN (isnan(mentionedUsers#21) OR isnull(mentionedUsers#21)) THEN mentionedUsers END) AS mentionedUsers#266, count(CASE WHEN (isnan(outlinks#22) OR isnull(outlinks#22)) THEN outlinks END) AS outlinks#268, count(CASE WHEN (isnan(place#23) OR isnull(place#23)) THEN place END) AS place#270, count(CASE WHEN (isnan(cast(quoteCount#24L as double)) OR isnull(quoteCount#24L)) THEN quoteCount END) AS quoteCount#272L, count(CASE WHEN (isnan(quotedTweet#25) OR isnull(quotedTweet#25)) THEN quotedTweet END) AS quotedTweet#274, count(CASE WHEN (isnan(cast(renderedContent#26 as double)) OR isnull(renderedContent#26)) THEN renderedContent END) AS renderedContent#276L, count(CASE WHEN (isnan(cast(replyCount#27L as double)) OR isnull(replyCount#27L)) THEN replyCount END) AS replyCount#278L, count(CASE WHEN (isnan(cast(retweetCount#28L as double)) OR isnull(retweetCount#28L)) THEN retweetCount END) AS retweetCount#280L, count(CASE WHEN (isnan(cast(retweetedTweet#29 as double)) OR isnull(retweetedTweet#29)) THEN retweetedTweet END) AS retweetedTweet#282L, count(CASE WHEN (isnan(cast(source#30 as double)) OR isnull(source#30)) THEN source END) AS source#284L, count(CASE WHEN (isnan(cast(sourceLabel#31 as double)) OR isnull(sourceLabel#31)) THEN sourceLabel END) AS sourceLabel#286L, ... 4 more fields]\n+- Relation [_type#8,cashtags#9,content#10,conversationId#11L,coordinates#12,date#13,hashtags#14,id#15L,inReplyToTweetId#16L,inReplyToUser#17,lang#18,likeCount#19L,media#20,mentionedUsers#21,outlinks#22,place#23,quoteCount#24L,quotedTweet#25,renderedContent#26,replyCount#27L,retweetCount#28L,retweetedTweet#29,source#30,sourceLabel#31,... 4 more fields] json\n",
     "output_type": "error",
     "traceback": [
      "\u001b[0;31m---------------------------------------------------------------------------\u001b[0m",
      "\u001b[0;31mAnalysisException\u001b[0m                         Traceback (most recent call last)",
      "\u001b[0;32m/tmp/ipykernel_108039/2544893686.py\u001b[0m in \u001b[0;36m<module>\u001b[0;34m\u001b[0m\n\u001b[1;32m      1\u001b[0m \u001b[0mcols\u001b[0m \u001b[0;34m=\u001b[0m \u001b[0mdf\u001b[0m\u001b[0;34m.\u001b[0m\u001b[0mcolumns\u001b[0m\u001b[0;34m\u001b[0m\u001b[0;34m\u001b[0m\u001b[0m\n\u001b[0;32m----> 2\u001b[0;31m \u001b[0mdf\u001b[0m\u001b[0;34m.\u001b[0m\u001b[0mselect\u001b[0m\u001b[0;34m(\u001b[0m\u001b[0;34m[\u001b[0m\u001b[0mcount\u001b[0m\u001b[0;34m(\u001b[0m\u001b[0mwhen\u001b[0m\u001b[0;34m(\u001b[0m\u001b[0misnan\u001b[0m\u001b[0;34m(\u001b[0m\u001b[0mc\u001b[0m\u001b[0;34m)\u001b[0m \u001b[0;34m|\u001b[0m \u001b[0mcol\u001b[0m\u001b[0;34m(\u001b[0m\u001b[0mc\u001b[0m\u001b[0;34m)\u001b[0m\u001b[0;34m.\u001b[0m\u001b[0misNull\u001b[0m\u001b[0;34m(\u001b[0m\u001b[0;34m)\u001b[0m\u001b[0;34m,\u001b[0m \u001b[0mc\u001b[0m\u001b[0;34m)\u001b[0m\u001b[0;34m)\u001b[0m\u001b[0;34m.\u001b[0m\u001b[0malias\u001b[0m\u001b[0;34m(\u001b[0m\u001b[0mc\u001b[0m\u001b[0;34m)\u001b[0m \u001b[0;32mfor\u001b[0m \u001b[0mc\u001b[0m \u001b[0;32min\u001b[0m \u001b[0mcols\u001b[0m\u001b[0;34m]\u001b[0m\u001b[0;34m)\u001b[0m\u001b[0;34m.\u001b[0m\u001b[0mshow\u001b[0m\u001b[0;34m(\u001b[0m\u001b[0;34m)\u001b[0m\u001b[0;34m\u001b[0m\u001b[0;34m\u001b[0m\u001b[0m\n\u001b[0m",
      "\u001b[0;32m~/miniconda3/lib/python3.9/site-packages/pyspark/sql/dataframe.py\u001b[0m in \u001b[0;36mselect\u001b[0;34m(self, *cols)\u001b[0m\n\u001b[1;32m   2021\u001b[0m         \u001b[0;34m[\u001b[0m\u001b[0mRow\u001b[0m\u001b[0;34m(\u001b[0m\u001b[0mname\u001b[0m\u001b[0;34m=\u001b[0m\u001b[0;34m'Alice'\u001b[0m\u001b[0;34m,\u001b[0m \u001b[0mage\u001b[0m\u001b[0;34m=\u001b[0m\u001b[0;36m12\u001b[0m\u001b[0;34m)\u001b[0m\u001b[0;34m,\u001b[0m \u001b[0mRow\u001b[0m\u001b[0;34m(\u001b[0m\u001b[0mname\u001b[0m\u001b[0;34m=\u001b[0m\u001b[0;34m'Bob'\u001b[0m\u001b[0;34m,\u001b[0m \u001b[0mage\u001b[0m\u001b[0;34m=\u001b[0m\u001b[0;36m15\u001b[0m\u001b[0;34m)\u001b[0m\u001b[0;34m]\u001b[0m\u001b[0;34m\u001b[0m\u001b[0;34m\u001b[0m\u001b[0m\n\u001b[1;32m   2022\u001b[0m         \"\"\"\n\u001b[0;32m-> 2023\u001b[0;31m         \u001b[0mjdf\u001b[0m \u001b[0;34m=\u001b[0m \u001b[0mself\u001b[0m\u001b[0;34m.\u001b[0m\u001b[0m_jdf\u001b[0m\u001b[0;34m.\u001b[0m\u001b[0mselect\u001b[0m\u001b[0;34m(\u001b[0m\u001b[0mself\u001b[0m\u001b[0;34m.\u001b[0m\u001b[0m_jcols\u001b[0m\u001b[0;34m(\u001b[0m\u001b[0;34m*\u001b[0m\u001b[0mcols\u001b[0m\u001b[0;34m)\u001b[0m\u001b[0;34m)\u001b[0m\u001b[0;34m\u001b[0m\u001b[0;34m\u001b[0m\u001b[0m\n\u001b[0m\u001b[1;32m   2024\u001b[0m         \u001b[0;32mreturn\u001b[0m \u001b[0mDataFrame\u001b[0m\u001b[0;34m(\u001b[0m\u001b[0mjdf\u001b[0m\u001b[0;34m,\u001b[0m \u001b[0mself\u001b[0m\u001b[0;34m.\u001b[0m\u001b[0msparkSession\u001b[0m\u001b[0;34m)\u001b[0m\u001b[0;34m\u001b[0m\u001b[0;34m\u001b[0m\u001b[0m\n\u001b[1;32m   2025\u001b[0m \u001b[0;34m\u001b[0m\u001b[0m\n",
      "\u001b[0;32m~/miniconda3/lib/python3.9/site-packages/py4j/java_gateway.py\u001b[0m in \u001b[0;36m__call__\u001b[0;34m(self, *args)\u001b[0m\n\u001b[1;32m   1319\u001b[0m \u001b[0;34m\u001b[0m\u001b[0m\n\u001b[1;32m   1320\u001b[0m         \u001b[0manswer\u001b[0m \u001b[0;34m=\u001b[0m \u001b[0mself\u001b[0m\u001b[0;34m.\u001b[0m\u001b[0mgateway_client\u001b[0m\u001b[0;34m.\u001b[0m\u001b[0msend_command\u001b[0m\u001b[0;34m(\u001b[0m\u001b[0mcommand\u001b[0m\u001b[0;34m)\u001b[0m\u001b[0;34m\u001b[0m\u001b[0;34m\u001b[0m\u001b[0m\n\u001b[0;32m-> 1321\u001b[0;31m         return_value = get_return_value(\n\u001b[0m\u001b[1;32m   1322\u001b[0m             answer, self.gateway_client, self.target_id, self.name)\n\u001b[1;32m   1323\u001b[0m \u001b[0;34m\u001b[0m\u001b[0m\n",
      "\u001b[0;32m~/miniconda3/lib/python3.9/site-packages/pyspark/sql/utils.py\u001b[0m in \u001b[0;36mdeco\u001b[0;34m(*a, **kw)\u001b[0m\n\u001b[1;32m    194\u001b[0m                 \u001b[0;31m# Hide where the exception came from that shows a non-Pythonic\u001b[0m\u001b[0;34m\u001b[0m\u001b[0;34m\u001b[0m\u001b[0m\n\u001b[1;32m    195\u001b[0m                 \u001b[0;31m# JVM exception message.\u001b[0m\u001b[0;34m\u001b[0m\u001b[0;34m\u001b[0m\u001b[0m\n\u001b[0;32m--> 196\u001b[0;31m                 \u001b[0;32mraise\u001b[0m \u001b[0mconverted\u001b[0m \u001b[0;32mfrom\u001b[0m \u001b[0;32mNone\u001b[0m\u001b[0;34m\u001b[0m\u001b[0;34m\u001b[0m\u001b[0m\n\u001b[0m\u001b[1;32m    197\u001b[0m             \u001b[0;32melse\u001b[0m\u001b[0;34m:\u001b[0m\u001b[0;34m\u001b[0m\u001b[0;34m\u001b[0m\u001b[0m\n\u001b[1;32m    198\u001b[0m                 \u001b[0;32mraise\u001b[0m\u001b[0;34m\u001b[0m\u001b[0;34m\u001b[0m\u001b[0m\n",
      "\u001b[0;31mAnalysisException\u001b[0m: cannot resolve 'isnan(cashtags)' due to data type mismatch: argument 1 requires (double or float) type, however, 'cashtags' is of array<string> type.;\n'Aggregate [count(CASE WHEN (isnan(cast(_type#8 as double)) OR isnull(_type#8)) THEN _type END) AS _type#240L, count(CASE WHEN (isnan(cashtags#9) OR isnull(cashtags#9)) THEN cashtags END) AS cashtags#242, count(CASE WHEN (isnan(cast(content#10 as double)) OR isnull(content#10)) THEN content END) AS content#244L, count(CASE WHEN (isnan(cast(conversationId#11L as double)) OR isnull(conversationId#11L)) THEN conversationId END) AS conversationId#246L, count(CASE WHEN (isnan(coordinates#12) OR isnull(coordinates#12)) THEN coordinates END) AS coordinates#248, count(CASE WHEN (isnan(cast(date#13 as double)) OR isnull(date#13)) THEN date END) AS date#250L, count(CASE WHEN (isnan(hashtags#14) OR isnull(hashtags#14)) THEN hashtags END) AS hashtags#252, count(CASE WHEN (isnan(cast(id#15L as double)) OR isnull(id#15L)) THEN id END) AS id#254L, count(CASE WHEN (isnan(cast(inReplyToTweetId#16L as double)) OR isnull(inReplyToTweetId#16L)) THEN inReplyToTweetId END) AS inReplyToTweetId#256L, count(CASE WHEN (isnan(inReplyToUser#17) OR isnull(inReplyToUser#17)) THEN inReplyToUser END) AS inReplyToUser#258, count(CASE WHEN (isnan(cast(lang#18 as double)) OR isnull(lang#18)) THEN lang END) AS lang#260L, count(CASE WHEN (isnan(cast(likeCount#19L as double)) OR isnull(likeCount#19L)) THEN likeCount END) AS likeCount#262L, count(CASE WHEN (isnan(media#20) OR isnull(media#20)) THEN media END) AS media#264, count(CASE WHEN (isnan(mentionedUsers#21) OR isnull(mentionedUsers#21)) THEN mentionedUsers END) AS mentionedUsers#266, count(CASE WHEN (isnan(outlinks#22) OR isnull(outlinks#22)) THEN outlinks END) AS outlinks#268, count(CASE WHEN (isnan(place#23) OR isnull(place#23)) THEN place END) AS place#270, count(CASE WHEN (isnan(cast(quoteCount#24L as double)) OR isnull(quoteCount#24L)) THEN quoteCount END) AS quoteCount#272L, count(CASE WHEN (isnan(quotedTweet#25) OR isnull(quotedTweet#25)) THEN quotedTweet END) AS quotedTweet#274, count(CASE WHEN (isnan(cast(renderedContent#26 as double)) OR isnull(renderedContent#26)) THEN renderedContent END) AS renderedContent#276L, count(CASE WHEN (isnan(cast(replyCount#27L as double)) OR isnull(replyCount#27L)) THEN replyCount END) AS replyCount#278L, count(CASE WHEN (isnan(cast(retweetCount#28L as double)) OR isnull(retweetCount#28L)) THEN retweetCount END) AS retweetCount#280L, count(CASE WHEN (isnan(cast(retweetedTweet#29 as double)) OR isnull(retweetedTweet#29)) THEN retweetedTweet END) AS retweetedTweet#282L, count(CASE WHEN (isnan(cast(source#30 as double)) OR isnull(source#30)) THEN source END) AS source#284L, count(CASE WHEN (isnan(cast(sourceLabel#31 as double)) OR isnull(sourceLabel#31)) THEN sourceLabel END) AS sourceLabel#286L, ... 4 more fields]\n+- Relation [_type#8,cashtags#9,content#10,conversationId#11L,coordinates#12,date#13,hashtags#14,id#15L,inReplyToTweetId#16L,inReplyToUser#17,lang#18,likeCount#19L,media#20,mentionedUsers#21,outlinks#22,place#23,quoteCount#24L,quotedTweet#25,renderedContent#26,replyCount#27L,retweetCount#28L,retweetedTweet#29,source#30,sourceLabel#31,... 4 more fields] json\n"
     ]
    }
   ],
   "source": [
    "cols = df.columns\n",
    "df.select([count(when(isnan(c) | col(c).isNull(), c)).alias(c) for c in cols]).show()"
   ]
  },
  {
   "cell_type": "code",
   "execution_count": null,
   "id": "f51ecf01",
   "metadata": {},
   "outputs": [],
   "source": []
  },
  {
   "cell_type": "code",
   "execution_count": null,
   "id": "2fc2e851",
   "metadata": {},
   "outputs": [],
   "source": []
  },
  {
   "cell_type": "code",
   "execution_count": null,
   "id": "383ba0d4",
   "metadata": {},
   "outputs": [],
   "source": []
  },
  {
   "cell_type": "code",
   "execution_count": null,
   "id": "8dc1698f",
   "metadata": {},
   "outputs": [],
   "source": []
  },
  {
   "cell_type": "code",
   "execution_count": null,
   "id": "cdf7de2d",
   "metadata": {},
   "outputs": [],
   "source": []
  },
  {
   "cell_type": "code",
   "execution_count": null,
   "id": "ae754dba",
   "metadata": {},
   "outputs": [],
   "source": []
  },
  {
   "cell_type": "code",
   "execution_count": null,
   "id": "cada461e",
   "metadata": {},
   "outputs": [],
   "source": []
  },
  {
   "cell_type": "code",
   "execution_count": null,
   "id": "84ae1f79",
   "metadata": {},
   "outputs": [],
   "source": []
  },
  {
   "cell_type": "code",
   "execution_count": null,
   "id": "1407a45e",
   "metadata": {},
   "outputs": [],
   "source": []
  },
  {
   "cell_type": "code",
   "execution_count": null,
   "id": "357ae414",
   "metadata": {},
   "outputs": [],
   "source": []
  },
  {
   "cell_type": "code",
   "execution_count": null,
   "id": "58fbe3f8",
   "metadata": {},
   "outputs": [],
   "source": []
  },
  {
   "cell_type": "markdown",
   "id": "b7b8e1e6",
   "metadata": {},
   "source": [
    "[Back to top...](#top)"
   ]
  },
  {
   "cell_type": "markdown",
   "id": "b7e561de",
   "metadata": {},
   "source": [
    "## Pre-Processing <a class = \"anchor\" id = \"eda\"></a>"
   ]
  },
  {
   "cell_type": "code",
   "execution_count": null,
   "id": "34db9824",
   "metadata": {},
   "outputs": [],
   "source": []
  },
  {
   "cell_type": "code",
   "execution_count": null,
   "id": "4ebd3ad9",
   "metadata": {},
   "outputs": [],
   "source": []
  },
  {
   "cell_type": "code",
   "execution_count": null,
   "id": "5bb3d89d",
   "metadata": {},
   "outputs": [],
   "source": []
  },
  {
   "cell_type": "code",
   "execution_count": null,
   "id": "2a980cba",
   "metadata": {},
   "outputs": [],
   "source": []
  },
  {
   "cell_type": "code",
   "execution_count": null,
   "id": "4997499c",
   "metadata": {},
   "outputs": [],
   "source": []
  },
  {
   "cell_type": "code",
   "execution_count": null,
   "id": "398bbff2",
   "metadata": {},
   "outputs": [],
   "source": []
  },
  {
   "cell_type": "code",
   "execution_count": null,
   "id": "dd3467b8",
   "metadata": {},
   "outputs": [],
   "source": []
  },
  {
   "cell_type": "markdown",
   "id": "1397006a",
   "metadata": {},
   "source": [
    "[Back to top...](#top)"
   ]
  },
  {
   "cell_type": "markdown",
   "id": "26b689dd",
   "metadata": {},
   "source": [
    "## Networking <a class = \"anchor\" id = \"network\"></a>"
   ]
  },
  {
   "cell_type": "code",
   "execution_count": null,
   "id": "6ac65914",
   "metadata": {},
   "outputs": [],
   "source": []
  },
  {
   "cell_type": "code",
   "execution_count": null,
   "id": "cad392de",
   "metadata": {},
   "outputs": [],
   "source": []
  },
  {
   "cell_type": "code",
   "execution_count": null,
   "id": "74545995",
   "metadata": {},
   "outputs": [],
   "source": []
  },
  {
   "cell_type": "code",
   "execution_count": null,
   "id": "b71b970d",
   "metadata": {},
   "outputs": [],
   "source": []
  },
  {
   "cell_type": "code",
   "execution_count": null,
   "id": "2a3ace4f",
   "metadata": {},
   "outputs": [],
   "source": []
  },
  {
   "cell_type": "code",
   "execution_count": null,
   "id": "984333c0",
   "metadata": {},
   "outputs": [],
   "source": []
  },
  {
   "cell_type": "markdown",
   "id": "f3db95bc",
   "metadata": {},
   "source": [
    "[Back to top...](#top)"
   ]
  },
  {
   "cell_type": "markdown",
   "id": "76a4ff97",
   "metadata": {},
   "source": [
    "## NLP: <a class = \"anchor\" id = \"nlp\"></a>"
   ]
  },
  {
   "cell_type": "code",
   "execution_count": null,
   "id": "3bb99511",
   "metadata": {},
   "outputs": [],
   "source": []
  },
  {
   "cell_type": "code",
   "execution_count": null,
   "id": "6a199e30",
   "metadata": {},
   "outputs": [],
   "source": []
  },
  {
   "cell_type": "code",
   "execution_count": null,
   "id": "4a7ec175",
   "metadata": {},
   "outputs": [],
   "source": []
  },
  {
   "cell_type": "code",
   "execution_count": null,
   "id": "842b87f1",
   "metadata": {},
   "outputs": [],
   "source": []
  },
  {
   "cell_type": "code",
   "execution_count": null,
   "id": "693fb617",
   "metadata": {},
   "outputs": [],
   "source": []
  },
  {
   "cell_type": "code",
   "execution_count": null,
   "id": "87fb6a83",
   "metadata": {},
   "outputs": [],
   "source": []
  },
  {
   "cell_type": "code",
   "execution_count": null,
   "id": "4b31335d",
   "metadata": {},
   "outputs": [],
   "source": []
  },
  {
   "cell_type": "markdown",
   "id": "12af0d93",
   "metadata": {},
   "source": [
    "[Back to top...](#top)"
   ]
  },
  {
   "cell_type": "markdown",
   "id": "f99c5156",
   "metadata": {},
   "source": [
    "## Conclusion: <a class = \"anchor\" id = \"end\"></a>"
   ]
  },
  {
   "cell_type": "code",
   "execution_count": null,
   "id": "93afc9b9",
   "metadata": {},
   "outputs": [],
   "source": []
  },
  {
   "cell_type": "code",
   "execution_count": null,
   "id": "3f088c93",
   "metadata": {},
   "outputs": [],
   "source": []
  },
  {
   "cell_type": "code",
   "execution_count": null,
   "id": "09378e08",
   "metadata": {},
   "outputs": [],
   "source": []
  },
  {
   "cell_type": "code",
   "execution_count": null,
   "id": "aebdef2b",
   "metadata": {},
   "outputs": [],
   "source": []
  },
  {
   "cell_type": "code",
   "execution_count": null,
   "id": "d1895f9c",
   "metadata": {},
   "outputs": [],
   "source": []
  },
  {
   "cell_type": "code",
   "execution_count": null,
   "id": "4a6e6fd8",
   "metadata": {},
   "outputs": [],
   "source": []
  },
  {
   "cell_type": "code",
   "execution_count": null,
   "id": "92c316f1",
   "metadata": {},
   "outputs": [],
   "source": []
  },
  {
   "cell_type": "code",
   "execution_count": null,
   "id": "cb3ca4c4",
   "metadata": {},
   "outputs": [],
   "source": []
  },
  {
   "cell_type": "markdown",
   "id": "84168dbb",
   "metadata": {},
   "source": [
    "[Back to top...](#top)"
   ]
  },
  {
   "cell_type": "code",
   "execution_count": null,
   "id": "5fe35dfe",
   "metadata": {},
   "outputs": [],
   "source": []
  }
 ],
 "metadata": {
  "kernelspec": {
   "display_name": "Python 3 (ipykernel)",
   "language": "python",
   "name": "python3"
  },
  "language_info": {
   "codemirror_mode": {
    "name": "ipython",
    "version": 3
   },
   "file_extension": ".py",
   "mimetype": "text/x-python",
   "name": "python",
   "nbconvert_exporter": "python",
   "pygments_lexer": "ipython3",
   "version": "3.9.12"
  }
 },
 "nbformat": 4,
 "nbformat_minor": 5
}
