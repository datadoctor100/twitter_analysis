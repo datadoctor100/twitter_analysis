{
 "cells": [
  {
   "cell_type": "code",
   "execution_count": 1,
   "id": "2b4bebcb",
   "metadata": {},
   "outputs": [
    {
     "data": {
      "text/html": [
       "<style>.container { width:99% !important; }</style>"
      ],
      "text/plain": [
       "<IPython.core.display.HTML object>"
      ]
     },
     "metadata": {},
     "output_type": "display_data"
    }
   ],
   "source": [
    "from IPython.display import display, HTML\n",
    "display(HTML(\"<style>.container { width:99% !important; }</style>\"))"
   ]
  },
  {
   "cell_type": "code",
   "execution_count": 2,
   "id": "f03965b4",
   "metadata": {},
   "outputs": [],
   "source": [
    "# Import libraries\n",
    "import pandas as pd\n",
    "import os\n",
    "from pyspark import SparkContext, SparkConf\n",
    "from pyspark.sql import SQLContext, SparkSession\n",
    "from pyspark.sql.types import StructType, StructField, DoubleType, IntegerType, StringType, ArrayType, FloatType\n",
    "import re\n",
    "import string\n",
    "from pyspark.sql.functions import udf, col, size, lit, explode, isnan, when, count, min, max, struct, posexplode\n",
    "from pyspark.ml.feature import HashingTF, IDF, Tokenizer, IndexToString, StringIndexer, VectorIndexer, CountVectorizer\n",
    "from collections import Counter\n",
    "import networkx as nx\n",
    "import nltk\n",
    "from nltk.corpus import words\n",
    "import gensim\n",
    "import gensim.corpora as corpora\n",
    "from gensim.models import CoherenceModel\n",
    "from gensim.models.ldamulticore import LdaMulticore\n",
    "import matplotlib.pyplot as plt\n",
    "%matplotlib inline\n",
    "import openai\n",
    "import json\n",
    "import ast\n",
    "from igraph import *\n",
    "import datashader as ds\n",
    "import datashader.transfer_functions as tf\n",
    "from datashader.layout import random_layout, circular_layout, forceatlas2_layout\n",
    "from datashader.bundling import connect_edges, hammer_bundle\n",
    "import nlp\n",
    "from textblob import TextBlob\n",
    "import numpy as np\n",
    "pd.set_option(\"display.max_columns\", None)"
   ]
  },
  {
   "cell_type": "code",
   "execution_count": 3,
   "id": "d1d4dcbd",
   "metadata": {},
   "outputs": [
    {
     "name": "stderr",
     "output_type": "stream",
     "text": [
      "22/08/22 08:00:54 WARN Utils: Your hostname, computer resolves to a loopback address: 127.0.1.1; using 192.168.1.159 instead (on interface wlp0s20f3)\n",
      "22/08/22 08:00:54 WARN Utils: Set SPARK_LOCAL_IP if you need to bind to another address\n",
      "WARNING: An illegal reflective access operation has occurred\n",
      "WARNING: Illegal reflective access by org.apache.spark.unsafe.Platform (file:/home/dataguy/miniconda3/lib/python3.9/site-packages/pyspark/jars/spark-unsafe_2.12-3.1.2.jar) to constructor java.nio.DirectByteBuffer(long,int)\n",
      "WARNING: Please consider reporting this to the maintainers of org.apache.spark.unsafe.Platform\n",
      "WARNING: Use --illegal-access=warn to enable warnings of further illegal reflective access operations\n",
      "WARNING: All illegal access operations will be denied in a future release\n",
      "22/08/22 08:00:54 WARN NativeCodeLoader: Unable to load native-hadoop library for your platform... using builtin-java classes where applicable\n",
      "Using Spark's default log4j profile: org/apache/spark/log4j-defaults.properties\n",
      "Setting default log level to \"WARN\".\n",
      "To adjust logging level use sc.setLogLevel(newLevel). For SparkR, use setLogLevel(newLevel).\n",
      "22/08/22 08:00:55 WARN Utils: Service 'SparkUI' could not bind on port 4040. Attempting port 4041.\n",
      "22/08/22 08:00:55 WARN Utils: Service 'SparkUI' could not bind on port 4041. Attempting port 4042.\n",
      "22/08/22 08:00:55 WARN Utils: Service 'SparkUI' could not bind on port 4042. Attempting port 4043.\n",
      "22/08/22 08:00:55 WARN Utils: Service 'SparkUI' could not bind on port 4043. Attempting port 4044.\n",
      "22/08/22 08:00:55 WARN Utils: Service 'SparkUI' could not bind on port 4044. Attempting port 4045.\n",
      "22/08/22 08:00:55 WARN Utils: Service 'SparkUI' could not bind on port 4045. Attempting port 4046.\n",
      "22/08/22 08:00:55 WARN Utils: Service 'SparkUI' could not bind on port 4046. Attempting port 4047.\n",
      "22/08/22 08:00:55 WARN Utils: Service 'SparkUI' could not bind on port 4047. Attempting port 4048.\n",
      "22/08/22 08:00:55 WARN Utils: Service 'SparkUI' could not bind on port 4048. Attempting port 4049.\n",
      "22/08/22 08:00:55 WARN Utils: Service 'SparkUI' could not bind on port 4049. Attempting port 4050.\n",
      "22/08/22 08:00:55 WARN Utils: Service 'SparkUI' could not bind on port 4050. Attempting port 4051.\n",
      "22/08/22 08:00:55 WARN Utils: Service 'SparkUI' could not bind on port 4051. Attempting port 4052.\n"
     ]
    }
   ],
   "source": [
    "# Initialize spark\n",
    "sc = SparkContext.getOrCreate(SparkConf().setMaster(\"local[*]\"))\n",
    "spark = SparkSession.builder.getOrCreate()"
   ]
  },
  {
   "cell_type": "code",
   "execution_count": 4,
   "id": "3ba9799b",
   "metadata": {},
   "outputs": [
    {
     "name": "stderr",
     "output_type": "stream",
     "text": [
      "22/08/22 08:01:04 WARN package: Truncated the string representation of a plan since it was too large. This behavior can be adjusted by setting 'spark.sql.debug.maxToStringFields'.\n",
      "                                                                                \r"
     ]
    }
   ],
   "source": [
    "# Read\n",
    "df = spark.read.json('/home/dataguy/data/us_news_tweets.json').drop('_type', 'cashtags', 'conversationId', 'id', 'inReplyToTweetId', 'media', 'outLinks', 'renderedContent', 'sourceUrl', 'tcooutlinks', 'url')\n",
    "df1 = df.withColumn('username', col('user.username')).withColumn('country', col('place.country')).withColumn('country_cd', col('place.countryCode'))\n",
    "df2 = df1.withColumn('quoted', col('quotedTweet.user.username')).withColumn('mentions', col('mentionedUsers.username')).withColumn('reply_to', col('inReplyToUser.username')).drop('user', 'coordinates', 'place', 'quotedTweet', 'inReplyToUser', 'mentionedUsers', 'renderedContent', 'id', 'media', 'outlinks', '_type', 'cashtags', 'conversationId', 'inReplyToTweetId', 'source', 'sourceUrl', 'sourceLabel', 'tcooutlinks', 'url', 'country', 'lang', 'retweetedTweet')\n",
    "df3 = df2.filter(\"country == 'United States'\").toPandas()\n",
    "df4 = df3.set_index(pd.DatetimeIndex(df3['date'])).drop('date', axis = 1)"
   ]
  },
  {
   "cell_type": "code",
   "execution_count": 5,
   "id": "89a6ab86",
   "metadata": {},
   "outputs": [
    {
     "name": "stdout",
     "output_type": "stream",
     "text": [
      "+--------------------+--------------------+--------------------+---------+----------+----------+------------+---------------+----------+------+--------+--------+\n",
      "|             content|                date|            hashtags|likeCount|quoteCount|replyCount|retweetCount|       username|country_cd|quoted|mentions|reply_to|\n",
      "+--------------------+--------------------+--------------------+---------+----------+----------+------------+---------------+----------+------+--------+--------+\n",
      "|Pagaya Technologi...|2022-08-16T10:41:...|[news, SeekingAlpha]|        0|         0|         0|           0|JacekWierzbicki|      null|  null|    null|    null|\n",
      "|Nasdaq, S&amp;P, ...|2022-08-16T10:41:...|[news, SeekingAlpha]|        0|         0|         0|           0|JacekWierzbicki|      null|  null|    null|    null|\n",
      "|Kaixin Auto stock...|2022-08-16T10:41:...|[news, SeekingAlpha]|        0|         0|         0|           0|JacekWierzbicki|      null|  null|    null|    null|\n",
      "|Sea Non-GAAP EPS ...|2022-08-16T10:41:...|[news, SeekingAlpha]|        0|         0|         0|           0|JacekWierzbicki|      null|  null|    null|    null|\n",
      "|Asia Cup 2022: St...|2022-08-16T10:41:...|[news, scriling, ...|        0|         0|         0|           0|      Scrilling|      null|  null|    null|    null|\n",
      "+--------------------+--------------------+--------------------+---------+----------+----------+------------+---------------+----------+------+--------+--------+\n",
      "only showing top 5 rows\n",
      "\n"
     ]
    }
   ],
   "source": [
    "df2.show(5)"
   ]
  },
  {
   "cell_type": "code",
   "execution_count": 6,
   "id": "0889e306",
   "metadata": {},
   "outputs": [
    {
     "name": "stdout",
     "output_type": "stream",
     "text": [
      "+--------------------+--------------------+--------------------+---------+----------+----------+------------+---------------+----------+---------------+--------------------+--------+\n",
      "|             content|                date|            hashtags|likeCount|quoteCount|replyCount|retweetCount|       username|country_cd|         quoted|            mentions|reply_to|\n",
      "+--------------------+--------------------+--------------------+---------+----------+----------+------------+---------------+----------+---------------+--------------------+--------+\n",
      "|This perpetrator ...|2022-08-16T10:32:...|              [news]|        1|         0|         0|           1|        DHMOban|      null|9NewsQueensland|                null|    null|\n",
      "|#NEWS #JAPANNEWS ...|2022-08-16T10:27:...|   [NEWS, JAPANNEWS]|        0|         0|         0|           0|       OSSORNUM|      null|         zlj517|                null|    null|\n",
      "|At first I though...|2022-08-16T10:22:...|[SnoopDogg, Snoop...|        0|         0|         0|           0|   MrJamSpark04|      null|         nypost|                null|    null|\n",
      "|Radio Pakistan #n...|2022-08-16T10:18:...|              [news]|        2|         0|         1|           0|  RadioPakistan|      null|PBCofficialNews|                null|    null|\n",
      "|Gee. I thought th...|2022-08-16T10:13:...|[news, auspol, ns...|        1|         0|         0|           1|        DHMOban|      null|    7NewsSydney|                null|    null|\n",
      "|#NHS earlier and ...|2022-08-16T09:24:...|[NHS, Cyberattack...|        0|         0|         0|           0|   Ace_CyberSec|      null|      Sec_Cyber|[AceCloudHosting,...|    null|\n",
      "|Checkout the late...|2022-08-16T09:00:...|[cryptocurrencies...|        0|         0|         2|           0|   xbitplatform|      null|     counoscoin|        [counoscoin]|    null|\n",
      "|#RT @NuZuDu: kwal...|2022-08-16T08:41:...|[RT, RT, Welcome,...|        0|         0|         0|           0|     kwalis6294|      null|     kwalis6294|[NuZuDu, NuZuDu, ...|    null|\n",
      "|#RT @NuZuDu: kwal...|2022-08-16T08:41:...|[RT, RT, RT, RT, ...|        0|         0|         0|           0|     kwalis6294|      null|     kwalis6294|[NuZuDu, NuZuDu, ...|    null|\n",
      "|#RT @NuZuDu: Fort...|2022-08-16T08:41:...|[RT, RT, RT, RT, ...|        0|         0|         0|           0|     kwalis6294|      null|FortWayneMusic_|[NuZuDu, NuZuDu, ...|    null|\n",
      "|#RT @NuZuDu: kwal...|2022-08-16T08:41:...|[RT, RT, RT, RT, ...|        0|         0|         0|           0|     kwalis6294|      null|     kwalis6294|[NuZuDu, NuZuDu, ...|    null|\n",
      "|Nicola sturgeon s...|2022-08-16T08:38:...|[news, NHSTORTURE...|        0|         0|         0|           1|       OSSORNUM|      null|    TheScotsman|                null|    null|\n",
      "|#ArvindKejriwal i...|2022-08-16T08:30:...|[ArvindKejriwal, ...|        0|         0|         0|           0|  vishal_vishie|      null|            ANI|                null|    null|\n",
      "|#news anchor are ...|2022-08-16T08:27:...|[news, JEEMainsTh...|        4|         1|         0|          11| TapashBiswas01|      null|  vani_mehrotra|                null|    null|\n",
      "|BRAND NEW TUBE BE...|2022-08-16T08:17:...|              [news]|        0|         0|         0|           0|MeditationforF1|      null|MeditationforF1|                null|    null|\n",
      "|Latest #FIFA #New...|2022-08-16T08:11:...|        [FIFA, News]|        0|         0|         0|           0|  fifaschedule1|      null|     IndiaToday|                null|    null|\n",
      "|kwalis6294: #RT @...|2022-08-16T07:53:...|[RT, RT, follow, ...|        0|         0|         0|           0|         NuZuDu|      null|     kwalis6294|[NuZuDu, Bitboy_C...|    null|\n",
      "|kwalis6294: #RT @...|2022-08-16T07:53:...|[RT, RT, follow, ...|        0|         0|         0|           0|         NuZuDu|      null|     kwalis6294|[NuZuDu, Bitboy_C...|    null|\n",
      "|kwalis6294: #RT @...|2022-08-16T07:53:...|[RT, Welcome, NuZ...|        0|         0|         0|           0|         NuZuDu|      null|     kwalis6294|[NuZuDu, kwalis6294]|    null|\n",
      "|kwalis6294: #RT @...|2022-08-16T07:53:...|[RT, RT, RT, foll...|        0|         0|         0|           0|         NuZuDu|      null|     kwalis6294|[NuZuDu, NuZuDu, ...|    null|\n",
      "+--------------------+--------------------+--------------------+---------+----------+----------+------------+---------------+----------+---------------+--------------------+--------+\n",
      "only showing top 20 rows\n",
      "\n"
     ]
    }
   ],
   "source": [
    "df2.filter(~df2.quoted.isNull()).show()"
   ]
  },
  {
   "cell_type": "code",
   "execution_count": 7,
   "id": "bc289bc5",
   "metadata": {},
   "outputs": [
    {
     "name": "stdout",
     "output_type": "stream",
     "text": [
      "root\n",
      " |-- content: string (nullable = true)\n",
      " |-- date: string (nullable = true)\n",
      " |-- hashtags: array (nullable = true)\n",
      " |    |-- element: string (containsNull = true)\n",
      " |-- likeCount: long (nullable = true)\n",
      " |-- quoteCount: long (nullable = true)\n",
      " |-- replyCount: long (nullable = true)\n",
      " |-- retweetCount: long (nullable = true)\n",
      " |-- username: string (nullable = true)\n",
      " |-- country_cd: string (nullable = true)\n",
      " |-- quoted: string (nullable = true)\n",
      " |-- mentions: array (nullable = true)\n",
      " |    |-- element: string (containsNull = true)\n",
      " |-- reply_to: string (nullable = true)\n",
      "\n"
     ]
    }
   ],
   "source": [
    "df2.printSchema()"
   ]
  },
  {
   "cell_type": "code",
   "execution_count": 8,
   "id": "3a6dd03b",
   "metadata": {},
   "outputs": [
    {
     "name": "stderr",
     "output_type": "stream",
     "text": [
      "                                                                                \r"
     ]
    },
    {
     "data": {
      "text/plain": [
       "2877354"
      ]
     },
     "execution_count": 8,
     "metadata": {},
     "output_type": "execute_result"
    }
   ],
   "source": [
    "df2.count()"
   ]
  },
  {
   "cell_type": "code",
   "execution_count": 9,
   "id": "ba41f6b0",
   "metadata": {},
   "outputs": [
    {
     "name": "stderr",
     "output_type": "stream",
     "text": [
      "                                                                                \r"
     ]
    }
   ],
   "source": [
    "users = df2.select('username').distinct().collect()\n",
    "quoted = df2.select('quoted').distinct().collect()\n",
    "mentions = df2.select('mentions').distinct().collect()"
   ]
  },
  {
   "cell_type": "code",
   "execution_count": 10,
   "id": "17f39167",
   "metadata": {},
   "outputs": [
    {
     "data": {
      "text/plain": [
       "[Row(mentions=['baltimoresun']),\n",
       " Row(mentions=['pakstockexgltd']),\n",
       " Row(mentions=['theheraldsun']),\n",
       " Row(mentions=['POTUS', 'SkyNews', 'MSNBC', 'abcnews', 'FoxNews', 'cnnbrk', 'BBCBreaking', 'BBCNews', 'BBCWorld']),\n",
       " Row(mentions=['SociumJob']),\n",
       " Row(mentions=['lingerie_addict']),\n",
       " Row(mentions=['BUAgroup', 'MBuhari']),\n",
       " Row(mentions=['rshaveddinov']),\n",
       " Row(mentions=['RaapBot', 'rtItBot', 'Retweelgend', 'AppleMusicRT', 'DistroKid']),\n",
       " Row(mentions=['FUFADrum'])]"
      ]
     },
     "execution_count": 10,
     "metadata": {},
     "output_type": "execute_result"
    }
   ],
   "source": [
    "mentions[0:10]"
   ]
  },
  {
   "cell_type": "code",
   "execution_count": 11,
   "id": "20707745",
   "metadata": {},
   "outputs": [],
   "source": [
    "mnts = []\n",
    "\n",
    "# Iterate mentions\n",
    "for x in mentions:\n",
    "    \n",
    "    if x[0]:\n",
    "        \n",
    "        for y in x[0]:\n",
    "        \n",
    "            mnts.append(y)"
   ]
  },
  {
   "cell_type": "code",
   "execution_count": 12,
   "id": "6c274563",
   "metadata": {},
   "outputs": [
    {
     "data": {
      "text/plain": [
       "['baltimoresun', 'pakstockexgltd', 'theheraldsun', 'POTUS', 'SkyNews']"
      ]
     },
     "execution_count": 12,
     "metadata": {},
     "output_type": "execute_result"
    }
   ],
   "source": [
    "mnts[0:5]"
   ]
  },
  {
   "cell_type": "code",
   "execution_count": 13,
   "id": "e0f20206",
   "metadata": {},
   "outputs": [],
   "source": [
    "nodes = [x[0] for x in users] + [y[0] for y in quoted] + [i for i in set(mnts)]\n",
    "nods = [i for i in set(nodes)]"
   ]
  },
  {
   "cell_type": "code",
   "execution_count": 14,
   "id": "d278ac20",
   "metadata": {},
   "outputs": [
    {
     "data": {
      "text/plain": [
       "196820"
      ]
     },
     "execution_count": 14,
     "metadata": {},
     "output_type": "execute_result"
    }
   ],
   "source": [
    "len(nodes)"
   ]
  },
  {
   "cell_type": "code",
   "execution_count": 15,
   "id": "98c9567e",
   "metadata": {},
   "outputs": [
    {
     "data": {
      "text/plain": [
       "184121"
      ]
     },
     "execution_count": 15,
     "metadata": {},
     "output_type": "execute_result"
    }
   ],
   "source": [
    "len(nods)"
   ]
  },
  {
   "cell_type": "code",
   "execution_count": 16,
   "id": "691d2c83",
   "metadata": {},
   "outputs": [],
   "source": [
    "pd.DataFrame(nods, columns = ['username']).to_csv('/home/dataguy/data/us_news_nodes.csv', index = False)"
   ]
  },
  {
   "cell_type": "code",
   "execution_count": 17,
   "id": "9c8bc390",
   "metadata": {},
   "outputs": [
    {
     "name": "stderr",
     "output_type": "stream",
     "text": [
      "                                                                                \r"
     ]
    }
   ],
   "source": [
    "edges = []\n",
    "\n",
    "# Iterate data to build network connections\n",
    "for x in df2.select('username', 'quoted', 'mentions', 'reply_to').collect():\n",
    "    \n",
    "    if x[1]:\n",
    "        \n",
    "        edges.append((x[0], x[1], 'quote'))\n",
    "        \n",
    "    if x[2]:\n",
    "        \n",
    "        for y in x[2]:\n",
    "            \n",
    "            edges.append((x[0], y, 'mention'))\n",
    "            \n",
    "    if x[3]:\n",
    "        \n",
    "        edges.append((x[0], x[3], 'reply'))"
   ]
  },
  {
   "cell_type": "code",
   "execution_count": 18,
   "id": "2a331a9e",
   "metadata": {},
   "outputs": [
    {
     "data": {
      "text/plain": [
       "[('E_4_Jupiter', 'Frontex', 'mention'),\n",
       " ('coryboatright', 'HomeServicesPM', 'mention'),\n",
       " ('coryboatright', 'fortunebuilders', 'mention'),\n",
       " ('coryboatright', 'RoyalNewsfeed', 'mention'),\n",
       " ('ExecuTeamUSA', 'interney', 'mention'),\n",
       " ('ExecuTeamUSA', 'nbcchicago', 'mention'),\n",
       " ('ExecuTeamUSA', 'craigiskowitz', 'mention'),\n",
       " ('DHMOban', '9NewsQueensland', 'mention'),\n",
       " ('DHMOban', '9NewsQueensland', 'reply'),\n",
       " ('LeavSteinberg', 'nj1015', 'mention')]"
      ]
     },
     "execution_count": 18,
     "metadata": {},
     "output_type": "execute_result"
    }
   ],
   "source": [
    "edges[0:10]"
   ]
  },
  {
   "cell_type": "code",
   "execution_count": 19,
   "id": "69056996",
   "metadata": {},
   "outputs": [],
   "source": [
    "edgs = pd.DataFrame(edges, columns = ['source', 'target', 'type'])"
   ]
  },
  {
   "cell_type": "code",
   "execution_count": 20,
   "id": "2c54655f",
   "metadata": {},
   "outputs": [],
   "source": [
    "e1 = edgs.groupby(['source', 'target', 'type']).size().reset_index().rename({0: 'weight'}, axis = 1)"
   ]
  },
  {
   "cell_type": "code",
   "execution_count": 21,
   "id": "5b466a1a",
   "metadata": {},
   "outputs": [],
   "source": [
    "e2 = e1[e1['source'].str.strip() != e1['target'].str.strip()]"
   ]
  },
  {
   "cell_type": "code",
   "execution_count": 22,
   "id": "7eeb38de",
   "metadata": {},
   "outputs": [
    {
     "data": {
      "text/html": [
       "<div>\n",
       "<style scoped>\n",
       "    .dataframe tbody tr th:only-of-type {\n",
       "        vertical-align: middle;\n",
       "    }\n",
       "\n",
       "    .dataframe tbody tr th {\n",
       "        vertical-align: top;\n",
       "    }\n",
       "\n",
       "    .dataframe thead th {\n",
       "        text-align: right;\n",
       "    }\n",
       "</style>\n",
       "<table border=\"1\" class=\"dataframe\">\n",
       "  <thead>\n",
       "    <tr style=\"text-align: right;\">\n",
       "      <th></th>\n",
       "      <th>source</th>\n",
       "      <th>target</th>\n",
       "      <th>type</th>\n",
       "      <th>weight</th>\n",
       "    </tr>\n",
       "  </thead>\n",
       "  <tbody>\n",
       "    <tr>\n",
       "      <th>182175</th>\n",
       "      <td>thehindupatrika</td>\n",
       "      <td>TheNileshDesai</td>\n",
       "      <td>mention</td>\n",
       "      <td>12667</td>\n",
       "    </tr>\n",
       "    <tr>\n",
       "      <th>73402</th>\n",
       "      <td>MetronixSA</td>\n",
       "      <td>TechCrunch</td>\n",
       "      <td>mention</td>\n",
       "      <td>4764</td>\n",
       "    </tr>\n",
       "    <tr>\n",
       "      <th>57905</th>\n",
       "      <td>Jessica_L_Hunt</td>\n",
       "      <td>baltimoresun</td>\n",
       "      <td>mention</td>\n",
       "      <td>3825</td>\n",
       "    </tr>\n",
       "    <tr>\n",
       "      <th>146201</th>\n",
       "      <td>hensleragency</td>\n",
       "      <td>nytimes</td>\n",
       "      <td>mention</td>\n",
       "      <td>3264</td>\n",
       "    </tr>\n",
       "    <tr>\n",
       "      <th>173877</th>\n",
       "      <td>rvp</td>\n",
       "      <td>DeepFriedCyber</td>\n",
       "      <td>quote</td>\n",
       "      <td>2573</td>\n",
       "    </tr>\n",
       "    <tr>\n",
       "      <th>46625</th>\n",
       "      <td>GiGiCaponePR</td>\n",
       "      <td>Complex</td>\n",
       "      <td>mention</td>\n",
       "      <td>2495</td>\n",
       "    </tr>\n",
       "    <tr>\n",
       "      <th>37238</th>\n",
       "      <td>EconomySquare</td>\n",
       "      <td>CraftyFin</td>\n",
       "      <td>mention</td>\n",
       "      <td>2351</td>\n",
       "    </tr>\n",
       "    <tr>\n",
       "      <th>83103</th>\n",
       "      <td>Othershawnlong</td>\n",
       "      <td>xdadevelopers</td>\n",
       "      <td>mention</td>\n",
       "      <td>2196</td>\n",
       "    </tr>\n",
       "    <tr>\n",
       "      <th>93683</th>\n",
       "      <td>Rodrick76496943</td>\n",
       "      <td>SportfusionApps</td>\n",
       "      <td>mention</td>\n",
       "      <td>1977</td>\n",
       "    </tr>\n",
       "    <tr>\n",
       "      <th>190603</th>\n",
       "      <td>ymediagroup</td>\n",
       "      <td>YudhvirJaswal</td>\n",
       "      <td>mention</td>\n",
       "      <td>1179</td>\n",
       "    </tr>\n",
       "  </tbody>\n",
       "</table>\n",
       "</div>"
      ],
      "text/plain": [
       "                 source           target     type  weight\n",
       "182175  thehindupatrika   TheNileshDesai  mention   12667\n",
       "73402        MetronixSA       TechCrunch  mention    4764\n",
       "57905    Jessica_L_Hunt     baltimoresun  mention    3825\n",
       "146201    hensleragency          nytimes  mention    3264\n",
       "173877              rvp   DeepFriedCyber    quote    2573\n",
       "46625      GiGiCaponePR          Complex  mention    2495\n",
       "37238     EconomySquare        CraftyFin  mention    2351\n",
       "83103    Othershawnlong    xdadevelopers  mention    2196\n",
       "93683   Rodrick76496943  SportfusionApps  mention    1977\n",
       "190603      ymediagroup    YudhvirJaswal  mention    1179"
      ]
     },
     "execution_count": 22,
     "metadata": {},
     "output_type": "execute_result"
    }
   ],
   "source": [
    "e2.sort_values('weight', ascending = False).head(n = 10)"
   ]
  },
  {
   "cell_type": "code",
   "execution_count": 23,
   "id": "4db18894",
   "metadata": {},
   "outputs": [
    {
     "data": {
      "text/plain": [
       "185388"
      ]
     },
     "execution_count": 23,
     "metadata": {},
     "output_type": "execute_result"
    }
   ],
   "source": [
    "e2.shape[0]"
   ]
  },
  {
   "cell_type": "code",
   "execution_count": 24,
   "id": "8a053a23",
   "metadata": {},
   "outputs": [],
   "source": [
    "e2.to_csv('/home/dataguy/data/us_news_edges.csv', index = False)"
   ]
  },
  {
   "cell_type": "code",
   "execution_count": 25,
   "id": "5e6951ba",
   "metadata": {},
   "outputs": [
    {
     "name": "stderr",
     "output_type": "stream",
     "text": [
      "                                                                                \r"
     ]
    }
   ],
   "source": [
    "# Filter out information on all users\n",
    "users = pd.DataFrame(df.select('inReplyToUser.*').distinct().toPandas()).drop(['_type', 'descriptionUrls', 'id', 'label', 'linkTcourl', 'linkUrl', 'profileBannerUrl', 'profileImageUrl', 'url'], axis = 1)"
   ]
  },
  {
   "cell_type": "code",
   "execution_count": 40,
   "id": "50f456b3",
   "metadata": {},
   "outputs": [
    {
     "data": {
      "text/html": [
       "<div>\n",
       "<style scoped>\n",
       "    .dataframe tbody tr th:only-of-type {\n",
       "        vertical-align: middle;\n",
       "    }\n",
       "\n",
       "    .dataframe tbody tr th {\n",
       "        vertical-align: top;\n",
       "    }\n",
       "\n",
       "    .dataframe thead th {\n",
       "        text-align: right;\n",
       "    }\n",
       "</style>\n",
       "<table border=\"1\" class=\"dataframe\">\n",
       "  <thead>\n",
       "    <tr style=\"text-align: right;\">\n",
       "      <th></th>\n",
       "      <th>created</th>\n",
       "      <th>description</th>\n",
       "      <th>displayname</th>\n",
       "      <th>favouritesCount</th>\n",
       "      <th>followersCount</th>\n",
       "      <th>friendsCount</th>\n",
       "      <th>listedCount</th>\n",
       "      <th>location</th>\n",
       "      <th>mediaCount</th>\n",
       "      <th>protected</th>\n",
       "      <th>rawDescription</th>\n",
       "      <th>statusesCount</th>\n",
       "      <th>username</th>\n",
       "      <th>verified</th>\n",
       "    </tr>\n",
       "  </thead>\n",
       "  <tbody>\n",
       "    <tr>\n",
       "      <th>0</th>\n",
       "      <td>None</td>\n",
       "      <td>None</td>\n",
       "      <td>KGET 17 News</td>\n",
       "      <td>NaN</td>\n",
       "      <td>NaN</td>\n",
       "      <td>NaN</td>\n",
       "      <td>NaN</td>\n",
       "      <td>None</td>\n",
       "      <td>NaN</td>\n",
       "      <td>None</td>\n",
       "      <td>None</td>\n",
       "      <td>NaN</td>\n",
       "      <td>KGETnews</td>\n",
       "      <td>None</td>\n",
       "    </tr>\n",
       "    <tr>\n",
       "      <th>1</th>\n",
       "      <td>2015-04-28T14:49:11+00:00</td>\n",
       "      <td>Serving the residents of #MissoulaCounty since...</td>\n",
       "      <td>Missoula County, Montana</td>\n",
       "      <td>859.0</td>\n",
       "      <td>2244.0</td>\n",
       "      <td>538.0</td>\n",
       "      <td>56.0</td>\n",
       "      <td>Missoula, MT</td>\n",
       "      <td>1940.0</td>\n",
       "      <td>False</td>\n",
       "      <td>Serving the residents of #MissoulaCounty since...</td>\n",
       "      <td>5310.0</td>\n",
       "      <td>MissoulaCounty</td>\n",
       "      <td>False</td>\n",
       "    </tr>\n",
       "    <tr>\n",
       "      <th>2</th>\n",
       "      <td>2021-08-04T06:18:42+00:00</td>\n",
       "      <td>Listening to music 🎶, creative, jigsaw puzzle 🧩</td>\n",
       "      <td>Hs. YH</td>\n",
       "      <td>2401.0</td>\n",
       "      <td>104.0</td>\n",
       "      <td>547.0</td>\n",
       "      <td>1.0</td>\n",
       "      <td></td>\n",
       "      <td>1479.0</td>\n",
       "      <td>False</td>\n",
       "      <td>Listening to music 🎶, creative, jigsaw puzzle 🧩</td>\n",
       "      <td>2575.0</td>\n",
       "      <td>Qiu79234655</td>\n",
       "      <td>False</td>\n",
       "    </tr>\n",
       "    <tr>\n",
       "      <th>3</th>\n",
       "      <td>2014-03-01T20:13:31+00:00</td>\n",
       "      <td>🎗️ “Always Look On The Bright Side Of Life.” —...</td>\n",
       "      <td>⚡️cyberalgo</td>\n",
       "      <td>1071.0</td>\n",
       "      <td>884.0</td>\n",
       "      <td>619.0</td>\n",
       "      <td>18.0</td>\n",
       "      <td></td>\n",
       "      <td>72470.0</td>\n",
       "      <td>False</td>\n",
       "      <td>🎗️ “Always Look On The Bright Side Of Life.” —...</td>\n",
       "      <td>123551.0</td>\n",
       "      <td>cyberalgo</td>\n",
       "      <td>False</td>\n",
       "    </tr>\n",
       "    <tr>\n",
       "      <th>4</th>\n",
       "      <td>None</td>\n",
       "      <td>None</td>\n",
       "      <td>Ian Coles</td>\n",
       "      <td>NaN</td>\n",
       "      <td>NaN</td>\n",
       "      <td>NaN</td>\n",
       "      <td>NaN</td>\n",
       "      <td>None</td>\n",
       "      <td>NaN</td>\n",
       "      <td>None</td>\n",
       "      <td>None</td>\n",
       "      <td>NaN</td>\n",
       "      <td>i_coles</td>\n",
       "      <td>None</td>\n",
       "    </tr>\n",
       "  </tbody>\n",
       "</table>\n",
       "</div>"
      ],
      "text/plain": [
       "                     created  \\\n",
       "0                       None   \n",
       "1  2015-04-28T14:49:11+00:00   \n",
       "2  2021-08-04T06:18:42+00:00   \n",
       "3  2014-03-01T20:13:31+00:00   \n",
       "4                       None   \n",
       "\n",
       "                                         description  \\\n",
       "0                                               None   \n",
       "1  Serving the residents of #MissoulaCounty since...   \n",
       "2    Listening to music 🎶, creative, jigsaw puzzle 🧩   \n",
       "3  🎗️ “Always Look On The Bright Side Of Life.” —...   \n",
       "4                                               None   \n",
       "\n",
       "                displayname  favouritesCount  followersCount  friendsCount  \\\n",
       "0              KGET 17 News              NaN             NaN           NaN   \n",
       "1  Missoula County, Montana            859.0          2244.0         538.0   \n",
       "2                    Hs. YH           2401.0           104.0         547.0   \n",
       "3               ⚡️cyberalgo           1071.0           884.0         619.0   \n",
       "4                 Ian Coles              NaN             NaN           NaN   \n",
       "\n",
       "   listedCount      location  mediaCount protected  \\\n",
       "0          NaN          None         NaN      None   \n",
       "1         56.0  Missoula, MT      1940.0     False   \n",
       "2          1.0                    1479.0     False   \n",
       "3         18.0                   72470.0     False   \n",
       "4          NaN          None         NaN      None   \n",
       "\n",
       "                                      rawDescription  statusesCount  \\\n",
       "0                                               None            NaN   \n",
       "1  Serving the residents of #MissoulaCounty since...         5310.0   \n",
       "2    Listening to music 🎶, creative, jigsaw puzzle 🧩         2575.0   \n",
       "3  🎗️ “Always Look On The Bright Side Of Life.” —...       123551.0   \n",
       "4                                               None            NaN   \n",
       "\n",
       "         username verified  \n",
       "0        KGETnews     None  \n",
       "1  MissoulaCounty    False  \n",
       "2     Qiu79234655    False  \n",
       "3       cyberalgo    False  \n",
       "4         i_coles     None  "
      ]
     },
     "execution_count": 40,
     "metadata": {},
     "output_type": "execute_result"
    }
   ],
   "source": [
    "users.head()"
   ]
  },
  {
   "cell_type": "code",
   "execution_count": 63,
   "id": "97af1ca1",
   "metadata": {},
   "outputs": [
    {
     "name": "stderr",
     "output_type": "stream",
     "text": [
      "                                                                                \r"
     ]
    }
   ],
   "source": [
    "collected = df.select('mentionedUsers').distinct().collect()\n",
    "drops = ['_type', 'descriptionUrls', 'id', 'label', 'linkTcourl', 'linkUrl', 'profileBannerUrl', 'profileImageUrl', 'url']"
   ]
  },
  {
   "cell_type": "code",
   "execution_count": 81,
   "id": "c1bda23b",
   "metadata": {},
   "outputs": [],
   "source": [
    "mentioned_users = []\n",
    "\n",
    "for x in collected:\n",
    "    \n",
    "    if x['mentionedUsers']:\n",
    "        \n",
    "        for y in x['mentionedUsers']:\n",
    "        \n",
    "            mentioned_users.append(y)"
   ]
  },
  {
   "cell_type": "code",
   "execution_count": 90,
   "id": "bf6a578b",
   "metadata": {},
   "outputs": [],
   "source": [
    "mentioned_users = pd.DataFrame(mentioned_users, columns = [mentioned_users[0].__fields__]).drop(['_type', 'descriptionUrls', 'id', 'label', 'linkTcourl', 'linkUrl', 'profileBannerUrl', 'profileImageUrl', 'url'], axis = 1)"
   ]
  },
  {
   "cell_type": "code",
   "execution_count": 91,
   "id": "b852f7f4",
   "metadata": {},
   "outputs": [
    {
     "data": {
      "text/html": [
       "<div>\n",
       "<style scoped>\n",
       "    .dataframe tbody tr th:only-of-type {\n",
       "        vertical-align: middle;\n",
       "    }\n",
       "\n",
       "    .dataframe tbody tr th {\n",
       "        vertical-align: top;\n",
       "    }\n",
       "\n",
       "    .dataframe thead tr th {\n",
       "        text-align: left;\n",
       "    }\n",
       "</style>\n",
       "<table border=\"1\" class=\"dataframe\">\n",
       "  <thead>\n",
       "    <tr>\n",
       "      <th></th>\n",
       "      <th>created</th>\n",
       "      <th>description</th>\n",
       "      <th>displayname</th>\n",
       "      <th>favouritesCount</th>\n",
       "      <th>followersCount</th>\n",
       "      <th>friendsCount</th>\n",
       "      <th>listedCount</th>\n",
       "      <th>location</th>\n",
       "      <th>mediaCount</th>\n",
       "      <th>protected</th>\n",
       "      <th>rawDescription</th>\n",
       "      <th>statusesCount</th>\n",
       "      <th>username</th>\n",
       "      <th>verified</th>\n",
       "    </tr>\n",
       "  </thead>\n",
       "  <tbody>\n",
       "    <tr>\n",
       "      <th>0</th>\n",
       "      <td>None</td>\n",
       "      <td>None</td>\n",
       "      <td>المصرية للاتصالات</td>\n",
       "      <td>None</td>\n",
       "      <td>None</td>\n",
       "      <td>None</td>\n",
       "      <td>None</td>\n",
       "      <td>None</td>\n",
       "      <td>None</td>\n",
       "      <td>None</td>\n",
       "      <td>None</td>\n",
       "      <td>None</td>\n",
       "      <td>telecomegypt</td>\n",
       "      <td>None</td>\n",
       "    </tr>\n",
       "    <tr>\n",
       "      <th>1</th>\n",
       "      <td>None</td>\n",
       "      <td>None</td>\n",
       "      <td>Deltek</td>\n",
       "      <td>None</td>\n",
       "      <td>None</td>\n",
       "      <td>None</td>\n",
       "      <td>None</td>\n",
       "      <td>None</td>\n",
       "      <td>None</td>\n",
       "      <td>None</td>\n",
       "      <td>None</td>\n",
       "      <td>None</td>\n",
       "      <td>Deltek</td>\n",
       "      <td>None</td>\n",
       "    </tr>\n",
       "    <tr>\n",
       "      <th>2</th>\n",
       "      <td>None</td>\n",
       "      <td>None</td>\n",
       "      <td>Christopher C. Cuomo</td>\n",
       "      <td>None</td>\n",
       "      <td>None</td>\n",
       "      <td>None</td>\n",
       "      <td>None</td>\n",
       "      <td>None</td>\n",
       "      <td>None</td>\n",
       "      <td>None</td>\n",
       "      <td>None</td>\n",
       "      <td>None</td>\n",
       "      <td>ChrisCuomo</td>\n",
       "      <td>None</td>\n",
       "    </tr>\n",
       "    <tr>\n",
       "      <th>3</th>\n",
       "      <td>None</td>\n",
       "      <td>None</td>\n",
       "      <td>GvonT</td>\n",
       "      <td>None</td>\n",
       "      <td>None</td>\n",
       "      <td>None</td>\n",
       "      <td>None</td>\n",
       "      <td>None</td>\n",
       "      <td>None</td>\n",
       "      <td>None</td>\n",
       "      <td>None</td>\n",
       "      <td>None</td>\n",
       "      <td>GvonTuch</td>\n",
       "      <td>None</td>\n",
       "    </tr>\n",
       "    <tr>\n",
       "      <th>4</th>\n",
       "      <td>None</td>\n",
       "      <td>None</td>\n",
       "      <td>Garland Nixon</td>\n",
       "      <td>None</td>\n",
       "      <td>None</td>\n",
       "      <td>None</td>\n",
       "      <td>None</td>\n",
       "      <td>None</td>\n",
       "      <td>None</td>\n",
       "      <td>None</td>\n",
       "      <td>None</td>\n",
       "      <td>None</td>\n",
       "      <td>GarlandNixon</td>\n",
       "      <td>None</td>\n",
       "    </tr>\n",
       "  </tbody>\n",
       "</table>\n",
       "</div>"
      ],
      "text/plain": [
       "  created description           displayname favouritesCount followersCount  \\\n",
       "0    None        None     المصرية للاتصالات            None           None   \n",
       "1    None        None                Deltek            None           None   \n",
       "2    None        None  Christopher C. Cuomo            None           None   \n",
       "3    None        None                 GvonT            None           None   \n",
       "4    None        None         Garland Nixon            None           None   \n",
       "\n",
       "  friendsCount listedCount location mediaCount protected rawDescription  \\\n",
       "0         None        None     None       None      None           None   \n",
       "1         None        None     None       None      None           None   \n",
       "2         None        None     None       None      None           None   \n",
       "3         None        None     None       None      None           None   \n",
       "4         None        None     None       None      None           None   \n",
       "\n",
       "  statusesCount      username verified  \n",
       "0          None  telecomegypt     None  \n",
       "1          None        Deltek     None  \n",
       "2          None    ChrisCuomo     None  \n",
       "3          None      GvonTuch     None  \n",
       "4          None  GarlandNixon     None  "
      ]
     },
     "execution_count": 91,
     "metadata": {},
     "output_type": "execute_result"
    }
   ],
   "source": [
    "mentioned_users.head()"
   ]
  },
  {
   "cell_type": "code",
   "execution_count": null,
   "id": "cd12ffcf",
   "metadata": {},
   "outputs": [],
   "source": []
  }
 ],
 "metadata": {
  "kernelspec": {
   "display_name": "Python 3 (ipykernel)",
   "language": "python",
   "name": "python3"
  },
  "language_info": {
   "codemirror_mode": {
    "name": "ipython",
    "version": 3
   },
   "file_extension": ".py",
   "mimetype": "text/x-python",
   "name": "python",
   "nbconvert_exporter": "python",
   "pygments_lexer": "ipython3",
   "version": "3.9.12"
  }
 },
 "nbformat": 4,
 "nbformat_minor": 5
}
