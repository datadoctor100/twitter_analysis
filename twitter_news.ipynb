{
 "cells": [
  {
   "cell_type": "code",
   "execution_count": 4,
   "id": "fce741c3",
   "metadata": {},
   "outputs": [
    {
     "data": {
      "text/html": [
       "<style>.container { width:99% !important; }</style>"
      ],
      "text/plain": [
       "<IPython.core.display.HTML object>"
      ]
     },
     "metadata": {},
     "output_type": "display_data"
    }
   ],
   "source": [
    "from IPython.display import display, HTML\n",
    "display(HTML(\"<style>.container { width:99% !important; }</style>\"))"
   ]
  },
  {
   "cell_type": "markdown",
   "id": "7aac4d3d",
   "metadata": {},
   "source": [
    "<a class = \"anchor\" id = \"top\"></a>\n",
    "\n",
    "# Natural Language Processing\n",
    "## Source: Twitter\n",
    "---\n",
    "### Authors: Gordon Amoako, Zan Sadiq\n",
    "---\n",
    "*Description*- In this endeavor, we will use natural language processing techniques to summarize and extract content from a large corpus of data scraped off the Twitter website in python.\n",
    "\n",
    "---\n",
    "Table of Contents:\n",
    "* [Data](#data)\n",
    "* [EDA](#eda)\n",
    "* [Pre-Processing](#eda)\n",
    "* [Networking](#network)\n",
    "* [NLP](#nlp)\n",
    "* [GPT3](#gpt)\n",
    "* [Conclusion](#end)\n",
    "---"
   ]
  },
  {
   "cell_type": "markdown",
   "id": "debc4fbf",
   "metadata": {},
   "source": [
    "## Data <a class = \"anchor\" id = \"data\"></a>"
   ]
  },
  {
   "cell_type": "code",
   "execution_count": 5,
   "id": "992db890",
   "metadata": {},
   "outputs": [],
   "source": [
    "# Import libraries\n",
    "import pandas as pd\n",
    "import os\n",
    "from pyspark import SparkContext, SparkConf\n",
    "from pyspark.sql import SQLContext, SparkSession\n",
    "from pyspark.sql.types import StructType, StructField, DoubleType, IntegerType, StringType, ArrayType, FloatType\n",
    "import re\n",
    "import string\n",
    "from pyspark.sql.functions import udf, col, size, lit, explode, isnan, when, count, min, max, struct\n",
    "from pyspark.ml.feature import HashingTF, IDF, Tokenizer, IndexToString, StringIndexer, VectorIndexer, CountVectorizer\n",
    "from collections import Counter\n",
    "import networkx as nx\n",
    "import nltk\n",
    "from nltk.corpus import words\n",
    "import gensim\n",
    "import gensim.corpora as corpora\n",
    "from gensim.models import CoherenceModel\n",
    "from gensim.models.ldamulticore import LdaMulticore\n",
    "import matplotlib.pyplot as plt\n",
    "%matplotlib inline\n",
    "import openai\n",
    "import json\n",
    "import ast"
   ]
  },
  {
   "cell_type": "code",
   "execution_count": 6,
   "id": "62fdf969",
   "metadata": {},
   "outputs": [],
   "source": [
    "# Function to get hashtags\n",
    "def extract_hashtags(x):\n",
    "    \n",
    "    hashtag_list = []\n",
    "      \n",
    "    # splitting the text into words\n",
    "    for word in x.split():\n",
    "          \n",
    "        # checking the first charcter of every word\n",
    "        if word[0] == '#':\n",
    "              \n",
    "            # adding the word to the hashtag_list\n",
    "            hashtag_list.append(word[1:])\n",
    "      \n",
    "    return hashtag_list\n",
    "\n",
    "# Function to process text\n",
    "def clean_tweet(tweet):\n",
    "\n",
    "    return ' '.join(re.sub(\"(@[A-Za-z0-9]+)|([^0-9A-Za-z \\t]) |(\\w+:\\/\\/\\S+)\", \" \", tweet.lower()).split())\n",
    "\n",
    "# Function to further process text\n",
    "def more_cleaning(tweet):\n",
    "    \n",
    "    tweet = re.sub(\"@[A-Za-z0-9_]+\",\"\", tweet)\n",
    "    tweet = re.sub(\"#[A-Za-z0-9_]+\",\"\", tweet)\n",
    "    tweet = ''.join([i for i in tweet if not i.isdigit()])\n",
    "    tweet = \" \".join(re.split(\"\\s+\", tweet, flags = re.UNICODE))\n",
    "    \n",
    "    return tweet\n",
    "\n",
    "# Function to filter pos\n",
    "def filter_pos(x):\n",
    "\n",
    "    x = nltk.pos_tag(x)\n",
    "    x = [i[0] for i in x if i[1].startswith(('N', 'A', 'J'))]\n",
    "\n",
    "    return [word for word in x if word in words.words()]"
   ]
  },
  {
   "cell_type": "code",
   "execution_count": 7,
   "id": "1313d89c",
   "metadata": {},
   "outputs": [
    {
     "name": "stderr",
     "output_type": "stream",
     "text": [
      "22/08/16 13:32:50 WARN Utils: Your hostname, computer resolves to a loopback address: 127.0.1.1; using 192.168.1.159 instead (on interface wlp0s20f3)\n",
      "22/08/16 13:32:50 WARN Utils: Set SPARK_LOCAL_IP if you need to bind to another address\n",
      "22/08/16 13:32:51 WARN NativeCodeLoader: Unable to load native-hadoop library for your platform... using builtin-java classes where applicable\n",
      "Using Spark's default log4j profile: org/apache/spark/log4j-defaults.properties\n",
      "Setting default log level to \"WARN\".\n",
      "To adjust logging level use sc.setLogLevel(newLevel). For SparkR, use setLogLevel(newLevel).\n",
      "22/08/16 13:32:51 WARN Utils: Service 'SparkUI' could not bind on port 4040. Attempting port 4041.\n",
      "22/08/16 13:32:51 WARN Utils: Service 'SparkUI' could not bind on port 4041. Attempting port 4042.\n",
      "22/08/16 13:32:51 WARN Utils: Service 'SparkUI' could not bind on port 4042. Attempting port 4043.\n"
     ]
    }
   ],
   "source": [
    "# Initialize spark\n",
    "sc = SparkContext.getOrCreate(SparkConf().setMaster(\"local[*]\"))\n",
    "spark = SparkSession.builder.getOrCreate()"
   ]
  },
  {
   "cell_type": "code",
   "execution_count": 8,
   "id": "20859ea6",
   "metadata": {},
   "outputs": [
    {
     "name": "stderr",
     "output_type": "stream",
     "text": [
      "22/08/16 13:32:58 WARN package: Truncated the string representation of a plan since it was too large. This behavior can be adjusted by setting 'spark.sql.debug.maxToStringFields'.\n"
     ]
    }
   ],
   "source": [
    "df = spark.read.json('/home/dataguy/data/news_tweets.json')"
   ]
  },
  {
   "cell_type": "code",
   "execution_count": 9,
   "id": "2024791a",
   "metadata": {},
   "outputs": [
    {
     "name": "stdout",
     "output_type": "stream",
     "text": [
      "root\n",
      " |-- _type: string (nullable = true)\n",
      " |-- cashtags: array (nullable = true)\n",
      " |    |-- element: string (containsNull = true)\n",
      " |-- content: string (nullable = true)\n",
      " |-- conversationId: long (nullable = true)\n",
      " |-- coordinates: struct (nullable = true)\n",
      " |    |-- _type: string (nullable = true)\n",
      " |    |-- latitude: double (nullable = true)\n",
      " |    |-- longitude: double (nullable = true)\n",
      " |-- date: string (nullable = true)\n",
      " |-- hashtags: array (nullable = true)\n",
      " |    |-- element: string (containsNull = true)\n",
      " |-- id: long (nullable = true)\n",
      " |-- inReplyToTweetId: long (nullable = true)\n",
      " |-- inReplyToUser: struct (nullable = true)\n",
      " |    |-- _type: string (nullable = true)\n",
      " |    |-- created: string (nullable = true)\n",
      " |    |-- description: string (nullable = true)\n",
      " |    |-- descriptionUrls: array (nullable = true)\n",
      " |    |    |-- element: struct (containsNull = true)\n",
      " |    |    |    |-- indices: array (nullable = true)\n",
      " |    |    |    |    |-- element: long (containsNull = true)\n",
      " |    |    |    |-- tcourl: string (nullable = true)\n",
      " |    |    |    |-- text: string (nullable = true)\n",
      " |    |    |    |-- url: string (nullable = true)\n",
      " |    |-- displayname: string (nullable = true)\n",
      " |    |-- favouritesCount: long (nullable = true)\n",
      " |    |-- followersCount: long (nullable = true)\n",
      " |    |-- friendsCount: long (nullable = true)\n",
      " |    |-- id: long (nullable = true)\n",
      " |    |-- label: struct (nullable = true)\n",
      " |    |    |-- _type: string (nullable = true)\n",
      " |    |    |-- badgeUrl: string (nullable = true)\n",
      " |    |    |-- description: string (nullable = true)\n",
      " |    |    |-- longDescription: string (nullable = true)\n",
      " |    |    |-- url: string (nullable = true)\n",
      " |    |-- linkTcourl: string (nullable = true)\n",
      " |    |-- linkUrl: string (nullable = true)\n",
      " |    |-- listedCount: long (nullable = true)\n",
      " |    |-- location: string (nullable = true)\n",
      " |    |-- mediaCount: long (nullable = true)\n",
      " |    |-- profileBannerUrl: string (nullable = true)\n",
      " |    |-- profileImageUrl: string (nullable = true)\n",
      " |    |-- protected: boolean (nullable = true)\n",
      " |    |-- rawDescription: string (nullable = true)\n",
      " |    |-- statusesCount: long (nullable = true)\n",
      " |    |-- url: string (nullable = true)\n",
      " |    |-- username: string (nullable = true)\n",
      " |    |-- verified: boolean (nullable = true)\n",
      " |-- lang: string (nullable = true)\n",
      " |-- likeCount: long (nullable = true)\n",
      " |-- media: array (nullable = true)\n",
      " |    |-- element: struct (containsNull = true)\n",
      " |    |    |-- _type: string (nullable = true)\n",
      " |    |    |-- duration: double (nullable = true)\n",
      " |    |    |-- fullUrl: string (nullable = true)\n",
      " |    |    |-- previewUrl: string (nullable = true)\n",
      " |    |    |-- thumbnailUrl: string (nullable = true)\n",
      " |    |    |-- variants: array (nullable = true)\n",
      " |    |    |    |-- element: struct (containsNull = true)\n",
      " |    |    |    |    |-- _type: string (nullable = true)\n",
      " |    |    |    |    |-- bitrate: long (nullable = true)\n",
      " |    |    |    |    |-- contentType: string (nullable = true)\n",
      " |    |    |    |    |-- url: string (nullable = true)\n",
      " |    |    |-- views: long (nullable = true)\n",
      " |-- mentionedUsers: array (nullable = true)\n",
      " |    |-- element: struct (containsNull = true)\n",
      " |    |    |-- _type: string (nullable = true)\n",
      " |    |    |-- created: string (nullable = true)\n",
      " |    |    |-- description: string (nullable = true)\n",
      " |    |    |-- descriptionUrls: string (nullable = true)\n",
      " |    |    |-- displayname: string (nullable = true)\n",
      " |    |    |-- favouritesCount: string (nullable = true)\n",
      " |    |    |-- followersCount: string (nullable = true)\n",
      " |    |    |-- friendsCount: string (nullable = true)\n",
      " |    |    |-- id: long (nullable = true)\n",
      " |    |    |-- label: string (nullable = true)\n",
      " |    |    |-- linkTcourl: string (nullable = true)\n",
      " |    |    |-- linkUrl: string (nullable = true)\n",
      " |    |    |-- listedCount: string (nullable = true)\n",
      " |    |    |-- location: string (nullable = true)\n",
      " |    |    |-- mediaCount: string (nullable = true)\n",
      " |    |    |-- profileBannerUrl: string (nullable = true)\n",
      " |    |    |-- profileImageUrl: string (nullable = true)\n",
      " |    |    |-- protected: string (nullable = true)\n",
      " |    |    |-- rawDescription: string (nullable = true)\n",
      " |    |    |-- statusesCount: string (nullable = true)\n",
      " |    |    |-- url: string (nullable = true)\n",
      " |    |    |-- username: string (nullable = true)\n",
      " |    |    |-- verified: string (nullable = true)\n",
      " |-- outlinks: array (nullable = true)\n",
      " |    |-- element: string (containsNull = true)\n",
      " |-- place: struct (nullable = true)\n",
      " |    |-- _type: string (nullable = true)\n",
      " |    |-- country: string (nullable = true)\n",
      " |    |-- countryCode: string (nullable = true)\n",
      " |    |-- fullName: string (nullable = true)\n",
      " |    |-- name: string (nullable = true)\n",
      " |    |-- type: string (nullable = true)\n",
      " |-- quoteCount: long (nullable = true)\n",
      " |-- quotedTweet: struct (nullable = true)\n",
      " |    |-- _type: string (nullable = true)\n",
      " |    |-- cashtags: array (nullable = true)\n",
      " |    |    |-- element: string (containsNull = true)\n",
      " |    |-- content: string (nullable = true)\n",
      " |    |-- conversationId: long (nullable = true)\n",
      " |    |-- coordinates: struct (nullable = true)\n",
      " |    |    |-- _type: string (nullable = true)\n",
      " |    |    |-- latitude: double (nullable = true)\n",
      " |    |    |-- longitude: double (nullable = true)\n",
      " |    |-- date: string (nullable = true)\n",
      " |    |-- hashtags: array (nullable = true)\n",
      " |    |    |-- element: string (containsNull = true)\n",
      " |    |-- id: long (nullable = true)\n",
      " |    |-- inReplyToTweetId: long (nullable = true)\n",
      " |    |-- inReplyToUser: struct (nullable = true)\n",
      " |    |    |-- _type: string (nullable = true)\n",
      " |    |    |-- created: string (nullable = true)\n",
      " |    |    |-- description: string (nullable = true)\n",
      " |    |    |-- descriptionUrls: array (nullable = true)\n",
      " |    |    |    |-- element: struct (containsNull = true)\n",
      " |    |    |    |    |-- indices: array (nullable = true)\n",
      " |    |    |    |    |    |-- element: long (containsNull = true)\n",
      " |    |    |    |    |-- tcourl: string (nullable = true)\n",
      " |    |    |    |    |-- text: string (nullable = true)\n",
      " |    |    |    |    |-- url: string (nullable = true)\n",
      " |    |    |-- displayname: string (nullable = true)\n",
      " |    |    |-- favouritesCount: long (nullable = true)\n",
      " |    |    |-- followersCount: long (nullable = true)\n",
      " |    |    |-- friendsCount: long (nullable = true)\n",
      " |    |    |-- id: long (nullable = true)\n",
      " |    |    |-- label: struct (nullable = true)\n",
      " |    |    |    |-- _type: string (nullable = true)\n",
      " |    |    |    |-- badgeUrl: string (nullable = true)\n",
      " |    |    |    |-- description: string (nullable = true)\n",
      " |    |    |    |-- longDescription: string (nullable = true)\n",
      " |    |    |    |-- url: string (nullable = true)\n",
      " |    |    |-- linkTcourl: string (nullable = true)\n",
      " |    |    |-- linkUrl: string (nullable = true)\n",
      " |    |    |-- listedCount: long (nullable = true)\n",
      " |    |    |-- location: string (nullable = true)\n",
      " |    |    |-- mediaCount: long (nullable = true)\n",
      " |    |    |-- profileBannerUrl: string (nullable = true)\n",
      " |    |    |-- profileImageUrl: string (nullable = true)\n",
      " |    |    |-- protected: boolean (nullable = true)\n",
      " |    |    |-- rawDescription: string (nullable = true)\n",
      " |    |    |-- statusesCount: long (nullable = true)\n",
      " |    |    |-- url: string (nullable = true)\n",
      " |    |    |-- username: string (nullable = true)\n",
      " |    |    |-- verified: boolean (nullable = true)\n",
      " |    |-- lang: string (nullable = true)\n",
      " |    |-- likeCount: long (nullable = true)\n",
      " |    |-- media: array (nullable = true)\n",
      " |    |    |-- element: struct (containsNull = true)\n",
      " |    |    |    |-- _type: string (nullable = true)\n",
      " |    |    |    |-- duration: double (nullable = true)\n",
      " |    |    |    |-- fullUrl: string (nullable = true)\n",
      " |    |    |    |-- previewUrl: string (nullable = true)\n",
      " |    |    |    |-- thumbnailUrl: string (nullable = true)\n",
      " |    |    |    |-- variants: array (nullable = true)\n",
      " |    |    |    |    |-- element: struct (containsNull = true)\n",
      " |    |    |    |    |    |-- _type: string (nullable = true)\n",
      " |    |    |    |    |    |-- bitrate: long (nullable = true)\n",
      " |    |    |    |    |    |-- contentType: string (nullable = true)\n",
      " |    |    |    |    |    |-- url: string (nullable = true)\n",
      " |    |    |    |-- views: long (nullable = true)\n",
      " |    |-- mentionedUsers: array (nullable = true)\n",
      " |    |    |-- element: struct (containsNull = true)\n",
      " |    |    |    |-- _type: string (nullable = true)\n",
      " |    |    |    |-- created: string (nullable = true)\n",
      " |    |    |    |-- description: string (nullable = true)\n",
      " |    |    |    |-- descriptionUrls: string (nullable = true)\n",
      " |    |    |    |-- displayname: string (nullable = true)\n",
      " |    |    |    |-- favouritesCount: string (nullable = true)\n",
      " |    |    |    |-- followersCount: string (nullable = true)\n",
      " |    |    |    |-- friendsCount: string (nullable = true)\n",
      " |    |    |    |-- id: long (nullable = true)\n",
      " |    |    |    |-- label: string (nullable = true)\n",
      " |    |    |    |-- linkTcourl: string (nullable = true)\n",
      " |    |    |    |-- linkUrl: string (nullable = true)\n",
      " |    |    |    |-- listedCount: string (nullable = true)\n",
      " |    |    |    |-- location: string (nullable = true)\n",
      " |    |    |    |-- mediaCount: string (nullable = true)\n",
      " |    |    |    |-- profileBannerUrl: string (nullable = true)\n",
      " |    |    |    |-- profileImageUrl: string (nullable = true)\n",
      " |    |    |    |-- protected: string (nullable = true)\n",
      " |    |    |    |-- rawDescription: string (nullable = true)\n",
      " |    |    |    |-- statusesCount: string (nullable = true)\n",
      " |    |    |    |-- url: string (nullable = true)\n",
      " |    |    |    |-- username: string (nullable = true)\n",
      " |    |    |    |-- verified: string (nullable = true)\n",
      " |    |-- outlinks: array (nullable = true)\n",
      " |    |    |-- element: string (containsNull = true)\n",
      " |    |-- place: struct (nullable = true)\n",
      " |    |    |-- _type: string (nullable = true)\n",
      " |    |    |-- country: string (nullable = true)\n",
      " |    |    |-- countryCode: string (nullable = true)\n",
      " |    |    |-- fullName: string (nullable = true)\n",
      " |    |    |-- name: string (nullable = true)\n",
      " |    |    |-- type: string (nullable = true)\n",
      " |    |-- quoteCount: long (nullable = true)\n",
      " |    |-- quotedTweet: struct (nullable = true)\n",
      " |    |    |-- _type: string (nullable = true)\n",
      " |    |    |-- cashtags: string (nullable = true)\n",
      " |    |    |-- content: string (nullable = true)\n",
      " |    |    |-- conversationId: long (nullable = true)\n",
      " |    |    |-- coordinates: struct (nullable = true)\n",
      " |    |    |    |-- _type: string (nullable = true)\n",
      " |    |    |    |-- latitude: double (nullable = true)\n",
      " |    |    |    |-- longitude: double (nullable = true)\n",
      " |    |    |-- date: string (nullable = true)\n",
      " |    |    |-- hashtags: array (nullable = true)\n",
      " |    |    |    |-- element: string (containsNull = true)\n",
      " |    |    |-- id: long (nullable = true)\n",
      " |    |    |-- inReplyToTweetId: string (nullable = true)\n",
      " |    |    |-- inReplyToUser: string (nullable = true)\n",
      " |    |    |-- lang: string (nullable = true)\n",
      " |    |    |-- likeCount: long (nullable = true)\n",
      " |    |    |-- media: array (nullable = true)\n",
      " |    |    |    |-- element: struct (containsNull = true)\n",
      " |    |    |    |    |-- _type: string (nullable = true)\n",
      " |    |    |    |    |-- duration: double (nullable = true)\n",
      " |    |    |    |    |-- fullUrl: string (nullable = true)\n",
      " |    |    |    |    |-- previewUrl: string (nullable = true)\n",
      " |    |    |    |    |-- thumbnailUrl: string (nullable = true)\n",
      " |    |    |    |    |-- variants: array (nullable = true)\n",
      " |    |    |    |    |    |-- element: struct (containsNull = true)\n",
      " |    |    |    |    |    |    |-- _type: string (nullable = true)\n",
      " |    |    |    |    |    |    |-- bitrate: long (nullable = true)\n",
      " |    |    |    |    |    |    |-- contentType: string (nullable = true)\n",
      " |    |    |    |    |    |    |-- url: string (nullable = true)\n",
      " |    |    |    |    |-- views: long (nullable = true)\n",
      " |    |    |-- mentionedUsers: array (nullable = true)\n",
      " |    |    |    |-- element: struct (containsNull = true)\n",
      " |    |    |    |    |-- _type: string (nullable = true)\n",
      " |    |    |    |    |-- created: string (nullable = true)\n",
      " |    |    |    |    |-- description: string (nullable = true)\n",
      " |    |    |    |    |-- descriptionUrls: string (nullable = true)\n",
      " |    |    |    |    |-- displayname: string (nullable = true)\n",
      " |    |    |    |    |-- favouritesCount: string (nullable = true)\n",
      " |    |    |    |    |-- followersCount: string (nullable = true)\n",
      " |    |    |    |    |-- friendsCount: string (nullable = true)\n",
      " |    |    |    |    |-- id: long (nullable = true)\n",
      " |    |    |    |    |-- label: string (nullable = true)\n",
      " |    |    |    |    |-- linkTcourl: string (nullable = true)\n",
      " |    |    |    |    |-- linkUrl: string (nullable = true)\n",
      " |    |    |    |    |-- listedCount: string (nullable = true)\n",
      " |    |    |    |    |-- location: string (nullable = true)\n",
      " |    |    |    |    |-- mediaCount: string (nullable = true)\n",
      " |    |    |    |    |-- profileBannerUrl: string (nullable = true)\n",
      " |    |    |    |    |-- profileImageUrl: string (nullable = true)\n",
      " |    |    |    |    |-- protected: string (nullable = true)\n",
      " |    |    |    |    |-- rawDescription: string (nullable = true)\n",
      " |    |    |    |    |-- statusesCount: string (nullable = true)\n",
      " |    |    |    |    |-- url: string (nullable = true)\n",
      " |    |    |    |    |-- username: string (nullable = true)\n",
      " |    |    |    |    |-- verified: string (nullable = true)\n",
      " |    |    |-- outlinks: array (nullable = true)\n",
      " |    |    |    |-- element: string (containsNull = true)\n",
      " |    |    |-- place: struct (nullable = true)\n",
      " |    |    |    |-- _type: string (nullable = true)\n",
      " |    |    |    |-- country: string (nullable = true)\n",
      " |    |    |    |-- countryCode: string (nullable = true)\n",
      " |    |    |    |-- fullName: string (nullable = true)\n",
      " |    |    |    |-- name: string (nullable = true)\n",
      " |    |    |    |-- type: string (nullable = true)\n",
      " |    |    |-- quoteCount: long (nullable = true)\n",
      " |    |    |-- quotedTweet: string (nullable = true)\n",
      " |    |    |-- renderedContent: string (nullable = true)\n",
      " |    |    |-- replyCount: long (nullable = true)\n",
      " |    |    |-- retweetCount: long (nullable = true)\n",
      " |    |    |-- retweetedTweet: string (nullable = true)\n",
      " |    |    |-- source: string (nullable = true)\n",
      " |    |    |-- sourceLabel: string (nullable = true)\n",
      " |    |    |-- sourceUrl: string (nullable = true)\n",
      " |    |    |-- tcooutlinks: array (nullable = true)\n",
      " |    |    |    |-- element: string (containsNull = true)\n",
      " |    |    |-- url: string (nullable = true)\n",
      " |    |    |-- user: struct (nullable = true)\n",
      " |    |    |    |-- _type: string (nullable = true)\n",
      " |    |    |    |-- created: string (nullable = true)\n",
      " |    |    |    |-- description: string (nullable = true)\n",
      " |    |    |    |-- descriptionUrls: array (nullable = true)\n",
      " |    |    |    |    |-- element: struct (containsNull = true)\n",
      " |    |    |    |    |    |-- indices: array (nullable = true)\n",
      " |    |    |    |    |    |    |-- element: long (containsNull = true)\n",
      " |    |    |    |    |    |-- tcourl: string (nullable = true)\n",
      " |    |    |    |    |    |-- text: string (nullable = true)\n",
      " |    |    |    |    |    |-- url: string (nullable = true)\n",
      " |    |    |    |-- displayname: string (nullable = true)\n",
      " |    |    |    |-- favouritesCount: long (nullable = true)\n",
      " |    |    |    |-- followersCount: long (nullable = true)\n",
      " |    |    |    |-- friendsCount: long (nullable = true)\n",
      " |    |    |    |-- id: long (nullable = true)\n",
      " |    |    |    |-- label: string (nullable = true)\n",
      " |    |    |    |-- linkTcourl: string (nullable = true)\n",
      " |    |    |    |-- linkUrl: string (nullable = true)\n",
      " |    |    |    |-- listedCount: long (nullable = true)\n",
      " |    |    |    |-- location: string (nullable = true)\n",
      " |    |    |    |-- mediaCount: long (nullable = true)\n",
      " |    |    |    |-- profileBannerUrl: string (nullable = true)\n",
      " |    |    |    |-- profileImageUrl: string (nullable = true)\n",
      " |    |    |    |-- protected: boolean (nullable = true)\n",
      " |    |    |    |-- rawDescription: string (nullable = true)\n",
      " |    |    |    |-- statusesCount: long (nullable = true)\n",
      " |    |    |    |-- url: string (nullable = true)\n",
      " |    |    |    |-- username: string (nullable = true)\n",
      " |    |    |    |-- verified: boolean (nullable = true)\n",
      " |    |-- renderedContent: string (nullable = true)\n",
      " |    |-- replyCount: long (nullable = true)\n",
      " |    |-- retweetCount: long (nullable = true)\n",
      " |    |-- retweetedTweet: string (nullable = true)\n",
      " |    |-- source: string (nullable = true)\n",
      " |    |-- sourceLabel: string (nullable = true)\n",
      " |    |-- sourceUrl: string (nullable = true)\n",
      " |    |-- tcooutlinks: array (nullable = true)\n",
      " |    |    |-- element: string (containsNull = true)\n",
      " |    |-- url: string (nullable = true)\n",
      " |    |-- user: struct (nullable = true)\n",
      " |    |    |-- _type: string (nullable = true)\n",
      " |    |    |-- created: string (nullable = true)\n",
      " |    |    |-- description: string (nullable = true)\n",
      " |    |    |-- descriptionUrls: array (nullable = true)\n",
      " |    |    |    |-- element: struct (containsNull = true)\n",
      " |    |    |    |    |-- indices: array (nullable = true)\n",
      " |    |    |    |    |    |-- element: long (containsNull = true)\n",
      " |    |    |    |    |-- tcourl: string (nullable = true)\n",
      " |    |    |    |    |-- text: string (nullable = true)\n",
      " |    |    |    |    |-- url: string (nullable = true)\n",
      " |    |    |-- displayname: string (nullable = true)\n",
      " |    |    |-- favouritesCount: long (nullable = true)\n",
      " |    |    |-- followersCount: long (nullable = true)\n",
      " |    |    |-- friendsCount: long (nullable = true)\n",
      " |    |    |-- id: long (nullable = true)\n",
      " |    |    |-- label: struct (nullable = true)\n",
      " |    |    |    |-- _type: string (nullable = true)\n",
      " |    |    |    |-- badgeUrl: string (nullable = true)\n",
      " |    |    |    |-- description: string (nullable = true)\n",
      " |    |    |    |-- longDescription: string (nullable = true)\n",
      " |    |    |    |-- url: string (nullable = true)\n",
      " |    |    |-- linkTcourl: string (nullable = true)\n",
      " |    |    |-- linkUrl: string (nullable = true)\n",
      " |    |    |-- listedCount: long (nullable = true)\n",
      " |    |    |-- location: string (nullable = true)\n",
      " |    |    |-- mediaCount: long (nullable = true)\n",
      " |    |    |-- profileBannerUrl: string (nullable = true)\n",
      " |    |    |-- profileImageUrl: string (nullable = true)\n",
      " |    |    |-- protected: boolean (nullable = true)\n",
      " |    |    |-- rawDescription: string (nullable = true)\n",
      " |    |    |-- statusesCount: long (nullable = true)\n",
      " |    |    |-- url: string (nullable = true)\n",
      " |    |    |-- username: string (nullable = true)\n",
      " |    |    |-- verified: boolean (nullable = true)\n",
      " |-- renderedContent: string (nullable = true)\n",
      " |-- replyCount: long (nullable = true)\n",
      " |-- retweetCount: long (nullable = true)\n",
      " |-- retweetedTweet: string (nullable = true)\n",
      " |-- source: string (nullable = true)\n",
      " |-- sourceLabel: string (nullable = true)\n",
      " |-- sourceUrl: string (nullable = true)\n",
      " |-- tcooutlinks: array (nullable = true)\n",
      " |    |-- element: string (containsNull = true)\n",
      " |-- url: string (nullable = true)\n",
      " |-- user: struct (nullable = true)\n",
      " |    |-- _type: string (nullable = true)\n",
      " |    |-- created: string (nullable = true)\n",
      " |    |-- description: string (nullable = true)\n",
      " |    |-- descriptionUrls: array (nullable = true)\n",
      " |    |    |-- element: struct (containsNull = true)\n",
      " |    |    |    |-- indices: array (nullable = true)\n",
      " |    |    |    |    |-- element: long (containsNull = true)\n",
      " |    |    |    |-- tcourl: string (nullable = true)\n",
      " |    |    |    |-- text: string (nullable = true)\n",
      " |    |    |    |-- url: string (nullable = true)\n",
      " |    |-- displayname: string (nullable = true)\n",
      " |    |-- favouritesCount: long (nullable = true)\n",
      " |    |-- followersCount: long (nullable = true)\n",
      " |    |-- friendsCount: long (nullable = true)\n",
      " |    |-- id: long (nullable = true)\n",
      " |    |-- label: struct (nullable = true)\n",
      " |    |    |-- _type: string (nullable = true)\n",
      " |    |    |-- badgeUrl: string (nullable = true)\n",
      " |    |    |-- description: string (nullable = true)\n",
      " |    |    |-- longDescription: string (nullable = true)\n",
      " |    |    |-- url: string (nullable = true)\n",
      " |    |-- linkTcourl: string (nullable = true)\n",
      " |    |-- linkUrl: string (nullable = true)\n",
      " |    |-- listedCount: long (nullable = true)\n",
      " |    |-- location: string (nullable = true)\n",
      " |    |-- mediaCount: long (nullable = true)\n",
      " |    |-- profileBannerUrl: string (nullable = true)\n",
      " |    |-- profileImageUrl: string (nullable = true)\n",
      " |    |-- protected: boolean (nullable = true)\n",
      " |    |-- rawDescription: string (nullable = true)\n",
      " |    |-- statusesCount: long (nullable = true)\n",
      " |    |-- url: string (nullable = true)\n",
      " |    |-- username: string (nullable = true)\n",
      " |    |-- verified: boolean (nullable = true)\n",
      "\n"
     ]
    }
   ],
   "source": [
    "df.printSchema()"
   ]
  },
  {
   "cell_type": "code",
   "execution_count": 10,
   "id": "77459472",
   "metadata": {},
   "outputs": [
    {
     "name": "stderr",
     "output_type": "stream",
     "text": [
      "                                                                                \r"
     ]
    },
    {
     "data": {
      "text/plain": [
       "1744565"
      ]
     },
     "execution_count": 10,
     "metadata": {},
     "output_type": "execute_result"
    }
   ],
   "source": [
    "df.count()"
   ]
  },
  {
   "cell_type": "code",
   "execution_count": 11,
   "id": "220923b1",
   "metadata": {},
   "outputs": [],
   "source": [
    "# Show nulls\n",
    "#cols = df.columns\n",
    "#df.select([count(when(isnan(c) | col(c).isNull(), c)).alias(c) for c in cols]).show()"
   ]
  },
  {
   "cell_type": "code",
   "execution_count": 12,
   "id": "5d0d339f",
   "metadata": {},
   "outputs": [
    {
     "name": "stderr",
     "output_type": "stream",
     "text": [
      "[Stage 3:====================================================>    (32 + 3) / 35]\r"
     ]
    },
    {
     "name": "stdout",
     "output_type": "stream",
     "text": [
      "Min Date- 2022-05-28T20:38:03+00:00\n",
      "Max Date- 2022-08-15T19:17:16+00:00\n"
     ]
    },
    {
     "name": "stderr",
     "output_type": "stream",
     "text": [
      "\r",
      "[Stage 3:=======================================================> (34 + 1) / 35]\r",
      "\r",
      "                                                                                \r"
     ]
    }
   ],
   "source": [
    "# Inspect\n",
    "min_date, max_date = df.select(min(\"date\"), max(\"date\")).first()\n",
    "print(f\"Min Date- {min_date}\")\n",
    "print(f\"Max Date- {max_date}\")"
   ]
  },
  {
   "cell_type": "markdown",
   "id": "b11b1897",
   "metadata": {},
   "source": [
    "[Back to top...](#top)"
   ]
  },
  {
   "cell_type": "markdown",
   "id": "e459dd21",
   "metadata": {},
   "source": [
    "## Pre-Processing <a class = \"anchor\" id = \"eda\"></a>"
   ]
  },
  {
   "cell_type": "code",
   "execution_count": 13,
   "id": "f03ea860",
   "metadata": {},
   "outputs": [],
   "source": [
    "df1 = df.withColumn('username', col('user.username')).withColumn('country', col('place.country')).withColumn('country_cd', col('place.countryCode')).drop('user', 'coordinates', 'place')"
   ]
  },
  {
   "cell_type": "code",
   "execution_count": 14,
   "id": "80a1eb22",
   "metadata": {},
   "outputs": [
    {
     "name": "stderr",
     "output_type": "stream",
     "text": [
      "[Stage 5:=====================================================>   (33 + 2) / 35]\r"
     ]
    },
    {
     "name": "stdout",
     "output_type": "stream",
     "text": [
      "+--------------------+-----+\n",
      "|             country|count|\n",
      "+--------------------+-----+\n",
      "|              Russia|    5|\n",
      "|            Paraguay|    3|\n",
      "|Islamic Republic ...|    6|\n",
      "|             Senegal|    2|\n",
      "|              Sweden|    3|\n",
      "|     The Netherlands|   36|\n",
      "|   Republic of Korea|   10|\n",
      "|            Malaysia|    7|\n",
      "|           Singapore|   15|\n",
      "|                Fiji|    1|\n",
      "|              Turkey|  120|\n",
      "|                Iraq|    4|\n",
      "|             Germany|  177|\n",
      "|            Cambodia|   94|\n",
      "|         Afghanistan|    2|\n",
      "|              Rwanda|    1|\n",
      "|         Ivory Coast|    5|\n",
      "|              France|  126|\n",
      "|              Greece|   54|\n",
      "|Hashemite Kingdom...|    1|\n",
      "+--------------------+-----+\n",
      "only showing top 20 rows\n",
      "\n"
     ]
    },
    {
     "name": "stderr",
     "output_type": "stream",
     "text": [
      "\r",
      "                                                                                \r"
     ]
    }
   ],
   "source": [
    "df1.groupBy('country').count().show()"
   ]
  },
  {
   "cell_type": "code",
   "execution_count": 15,
   "id": "9f661757",
   "metadata": {},
   "outputs": [
    {
     "data": {
      "text/plain": [
       "[Row(inReplyToUser=None)]"
      ]
     },
     "execution_count": 15,
     "metadata": {},
     "output_type": "execute_result"
    }
   ],
   "source": [
    "df1.select('inReplyToUser').take(1)"
   ]
  },
  {
   "cell_type": "code",
   "execution_count": 16,
   "id": "152266ec",
   "metadata": {},
   "outputs": [
    {
     "data": {
      "text/plain": [
       "[Row(mentionedUsers=None)]"
      ]
     },
     "execution_count": 16,
     "metadata": {},
     "output_type": "execute_result"
    }
   ],
   "source": [
    "df1.select('mentionedUsers').take(1)"
   ]
  },
  {
   "cell_type": "code",
   "execution_count": 17,
   "id": "e7499ef5",
   "metadata": {},
   "outputs": [
    {
     "data": {
      "text/plain": [
       "[Row(username='RBReich')]"
      ]
     },
     "execution_count": 17,
     "metadata": {},
     "output_type": "execute_result"
    }
   ],
   "source": [
    "df1.filter(~col('quotedTweet').isNull()).select('quotedTweet.user.username').take(1)"
   ]
  },
  {
   "cell_type": "code",
   "execution_count": 18,
   "id": "ab86193a",
   "metadata": {},
   "outputs": [
    {
     "name": "stderr",
     "output_type": "stream",
     "text": [
      "                                                                                \r"
     ]
    },
    {
     "data": {
      "text/plain": [
       "[]"
      ]
     },
     "execution_count": 18,
     "metadata": {},
     "output_type": "execute_result"
    }
   ],
   "source": [
    "df1.filter(~col('retweetedTweet').isNull()).take(1) #.select('retweetedTweet.user.username').take(1)"
   ]
  },
  {
   "cell_type": "code",
   "execution_count": 19,
   "id": "724277cb",
   "metadata": {},
   "outputs": [
    {
     "name": "stderr",
     "output_type": "stream",
     "text": [
      "                                                                                \r"
     ]
    }
   ],
   "source": [
    "df2 = df1.withColumn('quoted', col('quotedTweet.user.username')).drop('quotedTweet').withColumn('mentions', col('mentionedUsers.username')).withColumn('reply_to', col('inReplyToUser.username')).drop('inReplyToUser', 'mentionedUsers').filter(\"country == 'United States'\").toPandas().drop(['renderedContent', 'id', 'media', 'outlinks', '_type', 'cashtags', 'conversationId', 'inReplyToTweetId', 'source', 'sourceUrl', 'sourceLabel', 'tcooutlinks', 'url', 'country', 'lang', 'retweetedTweet'], axis = 1)\n",
    "df3 = df2.set_index(pd.DatetimeIndex(df2['date'])).drop('date', axis = 1)"
   ]
  },
  {
   "cell_type": "code",
   "execution_count": 20,
   "id": "d5ebc894",
   "metadata": {},
   "outputs": [
    {
     "data": {
      "text/html": [
       "<div>\n",
       "<style scoped>\n",
       "    .dataframe tbody tr th:only-of-type {\n",
       "        vertical-align: middle;\n",
       "    }\n",
       "\n",
       "    .dataframe tbody tr th {\n",
       "        vertical-align: top;\n",
       "    }\n",
       "\n",
       "    .dataframe thead th {\n",
       "        text-align: right;\n",
       "    }\n",
       "</style>\n",
       "<table border=\"1\" class=\"dataframe\">\n",
       "  <thead>\n",
       "    <tr style=\"text-align: right;\">\n",
       "      <th></th>\n",
       "      <th>content</th>\n",
       "      <th>hashtags</th>\n",
       "      <th>likeCount</th>\n",
       "      <th>quoteCount</th>\n",
       "      <th>replyCount</th>\n",
       "      <th>retweetCount</th>\n",
       "      <th>username</th>\n",
       "      <th>country_cd</th>\n",
       "      <th>quoted</th>\n",
       "      <th>mentions</th>\n",
       "      <th>reply_to</th>\n",
       "    </tr>\n",
       "    <tr>\n",
       "      <th>date</th>\n",
       "      <th></th>\n",
       "      <th></th>\n",
       "      <th></th>\n",
       "      <th></th>\n",
       "      <th></th>\n",
       "      <th></th>\n",
       "      <th></th>\n",
       "      <th></th>\n",
       "      <th></th>\n",
       "      <th></th>\n",
       "      <th></th>\n",
       "    </tr>\n",
       "  </thead>\n",
       "  <tbody>\n",
       "    <tr>\n",
       "      <th>2022-08-15 18:01:10+00:00</th>\n",
       "      <td>👀 ⬇️ #SouthCarolina #politics #news https://t....</td>\n",
       "      <td>[SouthCarolina, politics, news]</td>\n",
       "      <td>0</td>\n",
       "      <td>0</td>\n",
       "      <td>0</td>\n",
       "      <td>0</td>\n",
       "      <td>NicoleZiege</td>\n",
       "      <td>US</td>\n",
       "      <td>PCMyrtleBeach</td>\n",
       "      <td>None</td>\n",
       "      <td>None</td>\n",
       "    </tr>\n",
       "    <tr>\n",
       "      <th>2022-08-15 17:13:47+00:00</th>\n",
       "      <td>my early watchlist for TUESDAY, AUGUST 16, 202...</td>\n",
       "      <td>[stocks, news]</td>\n",
       "      <td>1</td>\n",
       "      <td>0</td>\n",
       "      <td>0</td>\n",
       "      <td>0</td>\n",
       "      <td>astockwatch1</td>\n",
       "      <td>US</td>\n",
       "      <td>None</td>\n",
       "      <td>None</td>\n",
       "      <td>None</td>\n",
       "    </tr>\n",
       "    <tr>\n",
       "      <th>2022-08-15 16:33:41+00:00</th>\n",
       "      <td>Time to set your entertainment up? 😃 Let’s all...</td>\n",
       "      <td>[Magic, Entertainment, Corporate, News]</td>\n",
       "      <td>0</td>\n",
       "      <td>0</td>\n",
       "      <td>0</td>\n",
       "      <td>0</td>\n",
       "      <td>JeffEzellMagic</td>\n",
       "      <td>US</td>\n",
       "      <td>None</td>\n",
       "      <td>None</td>\n",
       "      <td>None</td>\n",
       "    </tr>\n",
       "    <tr>\n",
       "      <th>2022-08-15 15:57:01+00:00</th>\n",
       "      <td>#NEWS: I’ll be at this news conference to get ...</td>\n",
       "      <td>[NEWS, ARNews]</td>\n",
       "      <td>0</td>\n",
       "      <td>0</td>\n",
       "      <td>1</td>\n",
       "      <td>0</td>\n",
       "      <td>eppersports</td>\n",
       "      <td>US</td>\n",
       "      <td>MitchellMcCoy</td>\n",
       "      <td>None</td>\n",
       "      <td>None</td>\n",
       "    </tr>\n",
       "    <tr>\n",
       "      <th>2022-08-15 14:40:31+00:00</th>\n",
       "      <td>William H. “Marty” Martin, 80, a respected sna...</td>\n",
       "      <td>[sphere, cbs, news, life, death, snake, bite, ...</td>\n",
       "      <td>0</td>\n",
       "      <td>0</td>\n",
       "      <td>0</td>\n",
       "      <td>0</td>\n",
       "      <td>spheresonline</td>\n",
       "      <td>US</td>\n",
       "      <td>None</td>\n",
       "      <td>None</td>\n",
       "      <td>None</td>\n",
       "    </tr>\n",
       "  </tbody>\n",
       "</table>\n",
       "</div>"
      ],
      "text/plain": [
       "                                                                     content  \\\n",
       "date                                                                           \n",
       "2022-08-15 18:01:10+00:00  👀 ⬇️ #SouthCarolina #politics #news https://t....   \n",
       "2022-08-15 17:13:47+00:00  my early watchlist for TUESDAY, AUGUST 16, 202...   \n",
       "2022-08-15 16:33:41+00:00  Time to set your entertainment up? 😃 Let’s all...   \n",
       "2022-08-15 15:57:01+00:00  #NEWS: I’ll be at this news conference to get ...   \n",
       "2022-08-15 14:40:31+00:00  William H. “Marty” Martin, 80, a respected sna...   \n",
       "\n",
       "                                                                    hashtags  \\\n",
       "date                                                                           \n",
       "2022-08-15 18:01:10+00:00                    [SouthCarolina, politics, news]   \n",
       "2022-08-15 17:13:47+00:00                                     [stocks, news]   \n",
       "2022-08-15 16:33:41+00:00            [Magic, Entertainment, Corporate, News]   \n",
       "2022-08-15 15:57:01+00:00                                     [NEWS, ARNews]   \n",
       "2022-08-15 14:40:31+00:00  [sphere, cbs, news, life, death, snake, bite, ...   \n",
       "\n",
       "                           likeCount  quoteCount  replyCount  retweetCount  \\\n",
       "date                                                                         \n",
       "2022-08-15 18:01:10+00:00          0           0           0             0   \n",
       "2022-08-15 17:13:47+00:00          1           0           0             0   \n",
       "2022-08-15 16:33:41+00:00          0           0           0             0   \n",
       "2022-08-15 15:57:01+00:00          0           0           1             0   \n",
       "2022-08-15 14:40:31+00:00          0           0           0             0   \n",
       "\n",
       "                                 username country_cd         quoted mentions  \\\n",
       "date                                                                           \n",
       "2022-08-15 18:01:10+00:00     NicoleZiege         US  PCMyrtleBeach     None   \n",
       "2022-08-15 17:13:47+00:00    astockwatch1         US           None     None   \n",
       "2022-08-15 16:33:41+00:00  JeffEzellMagic         US           None     None   \n",
       "2022-08-15 15:57:01+00:00     eppersports         US  MitchellMcCoy     None   \n",
       "2022-08-15 14:40:31+00:00   spheresonline         US           None     None   \n",
       "\n",
       "                          reply_to  \n",
       "date                                \n",
       "2022-08-15 18:01:10+00:00     None  \n",
       "2022-08-15 17:13:47+00:00     None  \n",
       "2022-08-15 16:33:41+00:00     None  \n",
       "2022-08-15 15:57:01+00:00     None  \n",
       "2022-08-15 14:40:31+00:00     None  "
      ]
     },
     "execution_count": 20,
     "metadata": {},
     "output_type": "execute_result"
    }
   ],
   "source": [
    "df3.head()"
   ]
  },
  {
   "cell_type": "code",
   "execution_count": 21,
   "id": "965aa27d",
   "metadata": {},
   "outputs": [
    {
     "data": {
      "text/plain": [
       "2508"
      ]
     },
     "execution_count": 21,
     "metadata": {},
     "output_type": "execute_result"
    }
   ],
   "source": [
    "df3.shape[0]"
   ]
  },
  {
   "cell_type": "markdown",
   "id": "d98423b1",
   "metadata": {},
   "source": [
    "[Back to top...](#top)"
   ]
  },
  {
   "cell_type": "markdown",
   "id": "9c215385",
   "metadata": {},
   "source": [
    "## EDA <a class = \"anchor\" id = \"eda\"></a>"
   ]
  },
  {
   "cell_type": "code",
   "execution_count": null,
   "id": "6abf35f6",
   "metadata": {},
   "outputs": [],
   "source": []
  },
  {
   "cell_type": "code",
   "execution_count": null,
   "id": "5523a14d",
   "metadata": {},
   "outputs": [],
   "source": []
  },
  {
   "cell_type": "code",
   "execution_count": null,
   "id": "bc41e93f",
   "metadata": {},
   "outputs": [],
   "source": []
  },
  {
   "cell_type": "code",
   "execution_count": null,
   "id": "19e900ec",
   "metadata": {},
   "outputs": [],
   "source": []
  },
  {
   "cell_type": "code",
   "execution_count": null,
   "id": "9fe3e348",
   "metadata": {},
   "outputs": [],
   "source": []
  },
  {
   "cell_type": "code",
   "execution_count": null,
   "id": "1d73427e",
   "metadata": {},
   "outputs": [],
   "source": []
  },
  {
   "cell_type": "markdown",
   "id": "ff7f26ed",
   "metadata": {},
   "source": [
    "[Back to top...](#top)"
   ]
  },
  {
   "cell_type": "markdown",
   "id": "84f58253",
   "metadata": {},
   "source": [
    "## Networking <a class = \"anchor\" id = \"network\"></a>"
   ]
  },
  {
   "cell_type": "code",
   "execution_count": 22,
   "id": "ec6aa400",
   "metadata": {},
   "outputs": [],
   "source": [
    "# Separate users\n",
    "nodes = [i for i in df2['username'].unique()]"
   ]
  },
  {
   "cell_type": "code",
   "execution_count": 23,
   "id": "49b081da",
   "metadata": {},
   "outputs": [
    {
     "data": {
      "text/plain": [
       "651"
      ]
     },
     "execution_count": 23,
     "metadata": {},
     "output_type": "execute_result"
    }
   ],
   "source": [
    "len(nodes)"
   ]
  },
  {
   "cell_type": "code",
   "execution_count": 24,
   "id": "f4a2dbd2",
   "metadata": {},
   "outputs": [],
   "source": [
    "# Add user activites\n",
    "for i in df2['quoted']:\n",
    "    \n",
    "    if i is not None:\n",
    "        \n",
    "        nodes.append(i)\n",
    "        \n",
    "for x in df2['mentions']:\n",
    "    \n",
    "    if x is not None:\n",
    "        \n",
    "        for y in x:\n",
    "            \n",
    "            nodes.append(y)\n",
    "            \n",
    "for z in df2['reply_to']:\n",
    "    \n",
    "    if z is not None:\n",
    "        \n",
    "        nodes.append(z)"
   ]
  },
  {
   "cell_type": "code",
   "execution_count": 25,
   "id": "34712742",
   "metadata": {},
   "outputs": [],
   "source": [
    "nodes = [i for i in set(nodes)]\n",
    "edges = []"
   ]
  },
  {
   "cell_type": "code",
   "execution_count": 26,
   "id": "79a67a75",
   "metadata": {},
   "outputs": [
    {
     "data": {
      "text/plain": [
       "2063"
      ]
     },
     "execution_count": 26,
     "metadata": {},
     "output_type": "execute_result"
    }
   ],
   "source": [
    "len(nodes)"
   ]
  },
  {
   "cell_type": "code",
   "execution_count": 27,
   "id": "1015b094",
   "metadata": {},
   "outputs": [],
   "source": [
    "# Select data\n",
    "replies = df2.dropna(subset = ['reply_to'])\n",
    "mentions = df2.dropna(subset = ['mentions'])\n",
    "quotes = df2.dropna(subset = ['quoted']) "
   ]
  },
  {
   "cell_type": "code",
   "execution_count": 28,
   "id": "498589ff",
   "metadata": {},
   "outputs": [],
   "source": [
    "# Iterate the data to add replies\n",
    "for idx, row in replies.iterrows():\n",
    "    \n",
    "    edges.append((row['username'], row['reply_to']))"
   ]
  },
  {
   "cell_type": "code",
   "execution_count": 29,
   "id": "7ab774ee",
   "metadata": {},
   "outputs": [],
   "source": [
    "# Iterate the data to add mentions\n",
    "for idx, row in mentions.iterrows():\n",
    "    \n",
    "    for entity in row['mentions']:\n",
    "        \n",
    "        edges.append((row['username'], entity))"
   ]
  },
  {
   "cell_type": "code",
   "execution_count": 30,
   "id": "6e04af8f",
   "metadata": {},
   "outputs": [],
   "source": [
    "# Iterate the data to add quotes\n",
    "for idx, row in quotes.iterrows():\n",
    "    \n",
    "    edges.append((row['username'], row['quoted']))"
   ]
  },
  {
   "cell_type": "code",
   "execution_count": 31,
   "id": "3a978888",
   "metadata": {},
   "outputs": [
    {
     "data": {
      "text/plain": [
       "['viaggiosport', 'KRIS6News', 'paw2sweet', 'CMBrookePinto', 'CIA']"
      ]
     },
     "execution_count": 31,
     "metadata": {},
     "output_type": "execute_result"
    }
   ],
   "source": [
    "nodes[0:5]"
   ]
  },
  {
   "cell_type": "code",
   "execution_count": 32,
   "id": "25c621c5",
   "metadata": {},
   "outputs": [
    {
     "data": {
      "text/plain": [
       "[('JenDowlingNews', 'JenDowlingNews'),\n",
       " ('WorldsMightiest', 'WorldsMightiest'),\n",
       " ('PrincipalTam', 'vicpasquantonio'),\n",
       " ('WorldsMightiest', 'WorldsMightiest'),\n",
       " ('WorldsMightiest', 'WorldsMightiest')]"
      ]
     },
     "execution_count": 32,
     "metadata": {},
     "output_type": "execute_result"
    }
   ],
   "source": [
    "edges[0:5]"
   ]
  },
  {
   "cell_type": "code",
   "execution_count": 33,
   "id": "740cb850",
   "metadata": {},
   "outputs": [],
   "source": [
    "edges = pd.DataFrame(edges, columns = ['source', 'target'])"
   ]
  },
  {
   "cell_type": "code",
   "execution_count": 34,
   "id": "5a2f8f5b",
   "metadata": {},
   "outputs": [],
   "source": [
    "# Calculate edge weights\n",
    "weights = edges.groupby(['source', 'target']).size().reset_index().rename({0: 'weight'}, axis = 1)"
   ]
  },
  {
   "cell_type": "code",
   "execution_count": 36,
   "id": "6e6603a1",
   "metadata": {},
   "outputs": [
    {
     "data": {
      "text/html": [
       "<div>\n",
       "<style scoped>\n",
       "    .dataframe tbody tr th:only-of-type {\n",
       "        vertical-align: middle;\n",
       "    }\n",
       "\n",
       "    .dataframe tbody tr th {\n",
       "        vertical-align: top;\n",
       "    }\n",
       "\n",
       "    .dataframe thead th {\n",
       "        text-align: right;\n",
       "    }\n",
       "</style>\n",
       "<table border=\"1\" class=\"dataframe\">\n",
       "  <thead>\n",
       "    <tr style=\"text-align: right;\">\n",
       "      <th></th>\n",
       "      <th>source</th>\n",
       "      <th>target</th>\n",
       "      <th>weight</th>\n",
       "    </tr>\n",
       "  </thead>\n",
       "  <tbody>\n",
       "    <tr>\n",
       "      <th>1003</th>\n",
       "      <td>TheGodSeek</td>\n",
       "      <td>TheGodSeek</td>\n",
       "      <td>218</td>\n",
       "    </tr>\n",
       "    <tr>\n",
       "      <th>1144</th>\n",
       "      <td>WorldsMightiest</td>\n",
       "      <td>WorldsMightiest</td>\n",
       "      <td>80</td>\n",
       "    </tr>\n",
       "    <tr>\n",
       "      <th>758</th>\n",
       "      <td>QuestFanning</td>\n",
       "      <td>edsblogtw1tter</td>\n",
       "      <td>45</td>\n",
       "    </tr>\n",
       "    <tr>\n",
       "      <th>357</th>\n",
       "      <td>HouseofColors_</td>\n",
       "      <td>PitFightsBattle</td>\n",
       "      <td>38</td>\n",
       "    </tr>\n",
       "    <tr>\n",
       "      <th>1506</th>\n",
       "      <td>realaustinlegg</td>\n",
       "      <td>PSBaseballinc</td>\n",
       "      <td>33</td>\n",
       "    </tr>\n",
       "    <tr>\n",
       "      <th>1496</th>\n",
       "      <td>realaustinlegg</td>\n",
       "      <td>MSI_Tournaments</td>\n",
       "      <td>28</td>\n",
       "    </tr>\n",
       "    <tr>\n",
       "      <th>895</th>\n",
       "      <td>TheGodSeek</td>\n",
       "      <td>DCComics</td>\n",
       "      <td>22</td>\n",
       "    </tr>\n",
       "    <tr>\n",
       "      <th>434</th>\n",
       "      <td>HouseofColors_</td>\n",
       "      <td>murda_red821</td>\n",
       "      <td>20</td>\n",
       "    </tr>\n",
       "    <tr>\n",
       "      <th>446</th>\n",
       "      <td>HouseofColors_</td>\n",
       "      <td>urltv</td>\n",
       "      <td>19</td>\n",
       "    </tr>\n",
       "    <tr>\n",
       "      <th>53</th>\n",
       "      <td>AnnieRoseNews</td>\n",
       "      <td>wjz</td>\n",
       "      <td>16</td>\n",
       "    </tr>\n",
       "    <tr>\n",
       "      <th>621</th>\n",
       "      <td>MDCounties</td>\n",
       "      <td>Conduit_St_Pod</td>\n",
       "      <td>14</td>\n",
       "    </tr>\n",
       "    <tr>\n",
       "      <th>1134</th>\n",
       "      <td>WorldsMightiest</td>\n",
       "      <td>CISAJen</td>\n",
       "      <td>14</td>\n",
       "    </tr>\n",
       "    <tr>\n",
       "      <th>1048</th>\n",
       "      <td>TheGodSeek</td>\n",
       "      <td>elonmusk</td>\n",
       "      <td>14</td>\n",
       "    </tr>\n",
       "    <tr>\n",
       "      <th>1368</th>\n",
       "      <td>jesustattoos</td>\n",
       "      <td>lisalovebasile</td>\n",
       "      <td>13</td>\n",
       "    </tr>\n",
       "    <tr>\n",
       "      <th>882</th>\n",
       "      <td>TheGodSeek</td>\n",
       "      <td>CISAJen</td>\n",
       "      <td>13</td>\n",
       "    </tr>\n",
       "    <tr>\n",
       "      <th>414</th>\n",
       "      <td>HouseofColors_</td>\n",
       "      <td>caffeine</td>\n",
       "      <td>12</td>\n",
       "    </tr>\n",
       "    <tr>\n",
       "      <th>1596</th>\n",
       "      <td>sumatvuaehnoti</td>\n",
       "      <td>sumatvuaehnoti</td>\n",
       "      <td>12</td>\n",
       "    </tr>\n",
       "    <tr>\n",
       "      <th>1361</th>\n",
       "      <td>jesustattoos</td>\n",
       "      <td>BasileKMJ</td>\n",
       "      <td>12</td>\n",
       "    </tr>\n",
       "    <tr>\n",
       "      <th>384</th>\n",
       "      <td>HouseofColors_</td>\n",
       "      <td>Stvcks</td>\n",
       "      <td>12</td>\n",
       "    </tr>\n",
       "    <tr>\n",
       "      <th>411</th>\n",
       "      <td>HouseofColors_</td>\n",
       "      <td>apexthagenius</td>\n",
       "      <td>11</td>\n",
       "    </tr>\n",
       "  </tbody>\n",
       "</table>\n",
       "</div>"
      ],
      "text/plain": [
       "               source           target  weight\n",
       "1003       TheGodSeek       TheGodSeek     218\n",
       "1144  WorldsMightiest  WorldsMightiest      80\n",
       "758      QuestFanning   edsblogtw1tter      45\n",
       "357    HouseofColors_  PitFightsBattle      38\n",
       "1506   realaustinlegg    PSBaseballinc      33\n",
       "1496   realaustinlegg  MSI_Tournaments      28\n",
       "895        TheGodSeek         DCComics      22\n",
       "434    HouseofColors_     murda_red821      20\n",
       "446    HouseofColors_            urltv      19\n",
       "53      AnnieRoseNews              wjz      16\n",
       "621        MDCounties   Conduit_St_Pod      14\n",
       "1134  WorldsMightiest          CISAJen      14\n",
       "1048       TheGodSeek         elonmusk      14\n",
       "1368     jesustattoos   lisalovebasile      13\n",
       "882        TheGodSeek          CISAJen      13\n",
       "414    HouseofColors_         caffeine      12\n",
       "1596   sumatvuaehnoti   sumatvuaehnoti      12\n",
       "1361     jesustattoos        BasileKMJ      12\n",
       "384    HouseofColors_           Stvcks      12\n",
       "411    HouseofColors_    apexthagenius      11"
      ]
     },
     "execution_count": 36,
     "metadata": {},
     "output_type": "execute_result"
    }
   ],
   "source": [
    "weights.sort_values('weight', ascending = False).head(n = 20)"
   ]
  },
  {
   "cell_type": "code",
   "execution_count": 37,
   "id": "d0674d83",
   "metadata": {},
   "outputs": [],
   "source": [
    "weights.to_csv('weighted_twitter_news_networks.csv', index = False)"
   ]
  },
  {
   "cell_type": "code",
   "execution_count": 38,
   "id": "18972984",
   "metadata": {},
   "outputs": [],
   "source": [
    "g = nx.from_pandas_edgelist(weights)"
   ]
  },
  {
   "cell_type": "code",
   "execution_count": null,
   "id": "9392f488",
   "metadata": {},
   "outputs": [],
   "source": []
  },
  {
   "cell_type": "code",
   "execution_count": null,
   "id": "b452b4b8",
   "metadata": {},
   "outputs": [],
   "source": []
  },
  {
   "cell_type": "code",
   "execution_count": null,
   "id": "a3e370ff",
   "metadata": {},
   "outputs": [],
   "source": []
  },
  {
   "cell_type": "code",
   "execution_count": null,
   "id": "8b4785dd",
   "metadata": {},
   "outputs": [],
   "source": []
  },
  {
   "cell_type": "code",
   "execution_count": null,
   "id": "68851a2c",
   "metadata": {},
   "outputs": [],
   "source": []
  },
  {
   "cell_type": "markdown",
   "id": "f6290e14",
   "metadata": {},
   "source": [
    "[Back to top...](#top)"
   ]
  },
  {
   "cell_type": "markdown",
   "id": "07628bc3",
   "metadata": {},
   "source": [
    "## NLP: <a class = \"anchor\" id = \"nlp\"></a>"
   ]
  },
  {
   "cell_type": "code",
   "execution_count": null,
   "id": "844b8ad5",
   "metadata": {},
   "outputs": [],
   "source": [
    "# Clean tweets and filter proper words\n",
    "%time df3['words'] = df3['content'].apply(lambda x: filter_pos(more_cleaning(clean_tweet(x)).split()))"
   ]
  },
  {
   "cell_type": "code",
   "execution_count": null,
   "id": "c211d892",
   "metadata": {},
   "outputs": [],
   "source": [
    "df4 = df3[df3['words'].str.len() > 0]"
   ]
  },
  {
   "cell_type": "code",
   "execution_count": null,
   "id": "350bd478",
   "metadata": {},
   "outputs": [],
   "source": [
    "df3.shape[0]"
   ]
  },
  {
   "cell_type": "code",
   "execution_count": null,
   "id": "50a26521",
   "metadata": {},
   "outputs": [],
   "source": [
    "df4.shape[0]"
   ]
  },
  {
   "cell_type": "code",
   "execution_count": null,
   "id": "2c614501",
   "metadata": {},
   "outputs": [],
   "source": [
    "df4.head()"
   ]
  },
  {
   "cell_type": "code",
   "execution_count": null,
   "id": "b949d02b",
   "metadata": {},
   "outputs": [],
   "source": [
    "# Create Dictionary\n",
    "words = corpora.Dictionary(df4['words'])\n",
    "\n",
    "# Term Document Frequency\n",
    "corpus = [words.doc2bow(text) for text in df4['words']]"
   ]
  },
  {
   "cell_type": "code",
   "execution_count": 89,
   "id": "3838f944",
   "metadata": {},
   "outputs": [
    {
     "name": "stdout",
     "output_type": "stream",
     "text": [
      "LDA for 1 topics, Coherence Score:  0.3905699405778977\n",
      "LDA for 2 topics, Coherence Score:  0.48206299575622935\n",
      "LDA for 3 topics, Coherence Score:  0.5564330616868323\n",
      "LDA for 4 topics, Coherence Score:  0.5535598750892488\n",
      "LDA for 5 topics, Coherence Score:  0.5618163557957481\n",
      "LDA for 6 topics, Coherence Score:  0.6000089802022709\n",
      "LDA for 7 topics, Coherence Score:  0.5911092380941271\n",
      "LDA for 8 topics, Coherence Score:  0.5844354292828464\n",
      "LDA for 9 topics, Coherence Score:  0.6028646568846627\n",
      "LDA for 10 topics, Coherence Score:  0.6006700317007746\n",
      "LDA for 11 topics, Coherence Score:  0.6008834941392945\n",
      "LDA for 12 topics, Coherence Score:  0.6056004497183527\n",
      "LDA for 13 topics, Coherence Score:  0.579113629921864\n",
      "LDA for 14 topics, Coherence Score:  0.5702869524015043\n",
      "LDA for 15 topics, Coherence Score:  0.5309504648148138\n",
      "LDA for 16 topics, Coherence Score:  0.49415537771330587\n",
      "LDA for 17 topics, Coherence Score:  0.49051121489399585\n",
      "LDA for 18 topics, Coherence Score:  0.5046821974070285\n",
      "LDA for 19 topics, Coherence Score:  0.4985639806447832\n",
      "LDA for 20 topics, Coherence Score:  0.5047735530803233\n",
      "LDA for 21 topics, Coherence Score:  0.48905550014385163\n",
      "LDA for 22 topics, Coherence Score:  0.4682649484331225\n",
      "LDA for 23 topics, Coherence Score:  0.4580555945177519\n",
      "LDA for 24 topics, Coherence Score:  0.4539887205882507\n",
      "CPU times: user 32.9 s, sys: 2.1 s, total: 35 s\n",
      "Wall time: 35.2 s\n"
     ]
    },
    {
     "name": "stderr",
     "output_type": "stream",
     "text": [
      "<timed exec>:29: UserWarning: Matplotlib is currently using module://matplotlib_inline.backend_inline, which is a non-GUI backend, so cannot show the figure.\n"
     ]
    },
    {
     "data": {
      "image/png": "[encoded data removed]",
      "text/plain": [
       "<Figure size 1800x720 with 1 Axes>"
      ]
     },
     "metadata": {
      "needs_background": "light"
     },
     "output_type": "display_data"
    }
   ],
   "source": [
    "%%time\n",
    "\n",
    "# Iterate to find optimal topics\n",
    "scores = []\n",
    "\n",
    "for n in range(1, 25, 1):\n",
    "\n",
    "    model = gensim.models.ldamodel.LdaModel(corpus = corpus,\n",
    "                                            id2word = words,\n",
    "                                            num_topics = n, \n",
    "                                            random_state = 100,\n",
    "                                            update_every = 1,\n",
    "                                            chunksize = 100,\n",
    "                                            passes = 10,\n",
    "                                            alpha = 'auto',\n",
    "                                            per_word_topics = True)\n",
    "    \n",
    "    # Score (low = good)\n",
    "    c = CoherenceModel(model = model, texts = df4['words'], dictionary = words, coherence = 'c_v')\n",
    "    coherence = c.get_coherence()\n",
    "\n",
    "    print(f'LDA for {n} topics, Coherence Score: ', coherence)\n",
    "\n",
    "    scores.append((n, coherence))\n",
    "\n",
    "fig, ax = plt.subplots(figsize = (25, 10))\n",
    "plt.title('Coherence Scores for LDA w/ N Topics', fontsize = 12)\n",
    "plt.xlabel('# Topics', fontsize = 12)\n",
    "plt.ylabel('Coherence', fontsize = 12)\n",
    "plt.plot([i[0] for i in scores], [i[1] for i in scores], lw = .5)\n",
    "fig.show();"
   ]
  },
  {
   "cell_type": "code",
   "execution_count": null,
   "id": "227b7d50",
   "metadata": {},
   "outputs": [],
   "source": [
    "# 12 topic optimal\n",
    "model = gensim.models.ldamodel.LdaModel(corpus = corpus,\n",
    "                                        id2word = words,\n",
    "                                        num_topics = 12, \n",
    "                                        random_state = 100,\n",
    "                                        update_every = 1,\n",
    "                                        chunksize = 100,\n",
    "                                        passes = 10,\n",
    "                                        alpha = 'auto',)\n",
    "                                        #per_word_topics = True)"
   ]
  },
  {
   "cell_type": "code",
   "execution_count": null,
   "id": "452256f5",
   "metadata": {},
   "outputs": [],
   "source": [
    "# Inspect\n",
    "for index, topic in model.show_topics(formatted = False, num_words = 10):\n",
    "\n",
    "    print('Topic: {} \\nWords: {}'.format(index, ', '.join([w[0] for w in topic])))"
   ]
  },
  {
   "cell_type": "code",
   "execution_count": null,
   "id": "60812e56",
   "metadata": {},
   "outputs": [],
   "source": [
    "# Convert\n",
    "topic_assignments = model.get_document_topics(corpus, minimum_probability = 0)\n",
    "csr = gensim.matutils.corpus2csc(topic_assignments)\n",
    "topic_array = csr.T.toarray()\n",
    "topics = pd.DataFrame(topic_array)\n",
    "topics.columns = [n for n in range(1, 13)]"
   ]
  },
  {
   "cell_type": "code",
   "execution_count": null,
   "id": "93749de7",
   "metadata": {},
   "outputs": [],
   "source": [
    "topics"
   ]
  },
  {
   "cell_type": "code",
   "execution_count": null,
   "id": "3b5b484c",
   "metadata": {},
   "outputs": [],
   "source": [
    "df5 = df4.reset_index()\n",
    "df5['topic'] = topics.idxmax(axis = 1)"
   ]
  },
  {
   "cell_type": "code",
   "execution_count": null,
   "id": "6950f742",
   "metadata": {},
   "outputs": [],
   "source": [
    "df5 = df5.set_index('date', drop = True)"
   ]
  },
  {
   "cell_type": "code",
   "execution_count": null,
   "id": "7d52ab6f",
   "metadata": {},
   "outputs": [],
   "source": [
    "df5['topic'].value_counts()"
   ]
  },
  {
   "cell_type": "code",
   "execution_count": null,
   "id": "f38a87d2",
   "metadata": {},
   "outputs": [],
   "source": [
    "df5.head()"
   ]
  },
  {
   "cell_type": "markdown",
   "id": "b8dcf88f",
   "metadata": {},
   "source": [
    "[Back to top...](#top)"
   ]
  },
  {
   "cell_type": "markdown",
   "id": "52d0722e",
   "metadata": {},
   "source": [
    "## GPT3: <a class = \"anchor\" id = \"gpt\"></a>"
   ]
  },
  {
   "cell_type": "code",
   "execution_count": null,
   "id": "f3c57aa3",
   "metadata": {},
   "outputs": [],
   "source": [
    "# Group data by topic\n",
    "#df5['wrds'] = df5['words'].apply(lambda x: ' '.join(x))\n",
    "subject_matter = df5.groupby('topic')['wrds'].apply(' '.join)"
   ]
  },
  {
   "cell_type": "code",
   "execution_count": null,
   "id": "51550d86",
   "metadata": {},
   "outputs": [],
   "source": [
    "len(subject_matter)"
   ]
  },
  {
   "cell_type": "code",
   "execution_count": null,
   "id": "328cd8aa",
   "metadata": {},
   "outputs": [],
   "source": [
    "subject_matter[1]"
   ]
  },
  {
   "cell_type": "code",
   "execution_count": null,
   "id": "58587eb4",
   "metadata": {},
   "outputs": [],
   "source": [
    "with open('openai.txt') as f:\n",
    "    \n",
    "    f = f.read()\n",
    "    creds = ast.literal_eval(f)"
   ]
  },
  {
   "cell_type": "code",
   "execution_count": null,
   "id": "347265fd",
   "metadata": {},
   "outputs": [],
   "source": [
    "openai.organization = None\n",
    "openai.api_key = creds['api_key']\n",
    "engine_list = openai.Engine.list() "
   ]
  },
  {
   "cell_type": "code",
   "execution_count": 184,
   "id": "1cd50e13",
   "metadata": {},
   "outputs": [
    {
     "data": {
      "text/plain": [
       "<OpenAIObject list at 0x7f7aafbfd040> JSON: {\n",
       "  \"data\": [\n",
       "    {\n",
       "      \"created\": null,\n",
       "      \"id\": \"davinci-instruct-beta\",\n",
       "      \"object\": \"engine\",\n",
       "      \"owner\": \"openai\",\n",
       "      \"permissions\": null,\n",
       "      \"ready\": true\n",
       "    },\n",
       "    {\n",
       "      \"created\": null,\n",
       "      \"id\": \"text-search-babbage-query-001\",\n",
       "      \"object\": \"engine\",\n",
       "      \"owner\": \"openai-dev\",\n",
       "      \"permissions\": null,\n",
       "      \"ready\": true\n",
       "    },\n",
       "    {\n",
       "      \"created\": null,\n",
       "      \"id\": \"text-davinci-002\",\n",
       "      \"object\": \"engine\",\n",
       "      \"owner\": \"openai\",\n",
       "      \"permissions\": null,\n",
       "      \"ready\": true\n",
       "    },\n",
       "    {\n",
       "      \"created\": null,\n",
       "      \"id\": \"code-davinci-edit-001\",\n",
       "      \"object\": \"engine\",\n",
       "      \"owner\": \"openai\",\n",
       "      \"permissions\": null,\n",
       "      \"ready\": true\n",
       "    },\n",
       "    {\n",
       "      \"created\": null,\n",
       "      \"id\": \"babbage-search-document\",\n",
       "      \"object\": \"engine\",\n",
       "      \"owner\": \"openai-dev\",\n",
       "      \"permissions\": null,\n",
       "      \"ready\": true\n",
       "    },\n",
       "    {\n",
       "      \"created\": null,\n",
       "      \"id\": \"babbage-code-search-text\",\n",
       "      \"object\": \"engine\",\n",
       "      \"owner\": \"openai-dev\",\n",
       "      \"permissions\": null,\n",
       "      \"ready\": true\n",
       "    },\n",
       "    {\n",
       "      \"created\": null,\n",
       "      \"id\": \"ada-search-document\",\n",
       "      \"object\": \"engine\",\n",
       "      \"owner\": \"openai-dev\",\n",
       "      \"permissions\": null,\n",
       "      \"ready\": true\n",
       "    },\n",
       "    {\n",
       "      \"created\": null,\n",
       "      \"id\": \"text-ada-001\",\n",
       "      \"object\": \"engine\",\n",
       "      \"owner\": \"openai\",\n",
       "      \"permissions\": null,\n",
       "      \"ready\": true\n",
       "    },\n",
       "    {\n",
       "      \"created\": null,\n",
       "      \"id\": \"davinci-search-document\",\n",
       "      \"object\": \"engine\",\n",
       "      \"owner\": \"openai-dev\",\n",
       "      \"permissions\": null,\n",
       "      \"ready\": true\n",
       "    },\n",
       "    {\n",
       "      \"created\": null,\n",
       "      \"id\": \"text-similarity-curie-001\",\n",
       "      \"object\": \"engine\",\n",
       "      \"owner\": \"openai-dev\",\n",
       "      \"permissions\": null,\n",
       "      \"ready\": true\n",
       "    },\n",
       "    {\n",
       "      \"created\": null,\n",
       "      \"id\": \"curie-similarity-fast\",\n",
       "      \"object\": \"engine\",\n",
       "      \"owner\": \"openai-dev\",\n",
       "      \"permissions\": null,\n",
       "      \"ready\": true\n",
       "    },\n",
       "    {\n",
       "      \"created\": null,\n",
       "      \"id\": \"babbage-search-query\",\n",
       "      \"object\": \"engine\",\n",
       "      \"owner\": \"openai-dev\",\n",
       "      \"permissions\": null,\n",
       "      \"ready\": true\n",
       "    },\n",
       "    {\n",
       "      \"created\": null,\n",
       "      \"id\": \"text-search-babbage-doc-001\",\n",
       "      \"object\": \"engine\",\n",
       "      \"owner\": \"openai-dev\",\n",
       "      \"permissions\": null,\n",
       "      \"ready\": true\n",
       "    },\n",
       "    {\n",
       "      \"created\": null,\n",
       "      \"id\": \"curie-similarity\",\n",
       "      \"object\": \"engine\",\n",
       "      \"owner\": \"openai-dev\",\n",
       "      \"permissions\": null,\n",
       "      \"ready\": true\n",
       "    },\n",
       "    {\n",
       "      \"created\": null,\n",
       "      \"id\": \"ada-search-query\",\n",
       "      \"object\": \"engine\",\n",
       "      \"owner\": \"openai-dev\",\n",
       "      \"permissions\": null,\n",
       "      \"ready\": true\n",
       "    },\n",
       "    {\n",
       "      \"created\": null,\n",
       "      \"id\": \"text-davinci-insert-001\",\n",
       "      \"object\": \"engine\",\n",
       "      \"owner\": \"openai\",\n",
       "      \"permissions\": null,\n",
       "      \"ready\": true\n",
       "    },\n",
       "    {\n",
       "      \"created\": null,\n",
       "      \"id\": \"text-search-davinci-doc-001\",\n",
       "      \"object\": \"engine\",\n",
       "      \"owner\": \"openai-dev\",\n",
       "      \"permissions\": null,\n",
       "      \"ready\": true\n",
       "    },\n",
       "    {\n",
       "      \"created\": null,\n",
       "      \"id\": \"text-search-ada-doc-001\",\n",
       "      \"object\": \"engine\",\n",
       "      \"owner\": \"openai-dev\",\n",
       "      \"permissions\": null,\n",
       "      \"ready\": true\n",
       "    },\n",
       "    {\n",
       "      \"created\": null,\n",
       "      \"id\": \"text-babbage-001\",\n",
       "      \"object\": \"engine\",\n",
       "      \"owner\": \"openai\",\n",
       "      \"permissions\": null,\n",
       "      \"ready\": true\n",
       "    },\n",
       "    {\n",
       "      \"created\": null,\n",
       "      \"id\": \"text-similarity-babbage-001\",\n",
       "      \"object\": \"engine\",\n",
       "      \"owner\": \"openai-dev\",\n",
       "      \"permissions\": null,\n",
       "      \"ready\": true\n",
       "    },\n",
       "    {\n",
       "      \"created\": null,\n",
       "      \"id\": \"text-davinci-001\",\n",
       "      \"object\": \"engine\",\n",
       "      \"owner\": \"openai\",\n",
       "      \"permissions\": null,\n",
       "      \"ready\": true\n",
       "    },\n",
       "    {\n",
       "      \"created\": null,\n",
       "      \"id\": \"curie\",\n",
       "      \"object\": \"engine\",\n",
       "      \"owner\": \"openai\",\n",
       "      \"permissions\": null,\n",
       "      \"ready\": true\n",
       "    },\n",
       "    {\n",
       "      \"created\": null,\n",
       "      \"id\": \"curie-instruct-beta\",\n",
       "      \"object\": \"engine\",\n",
       "      \"owner\": \"openai\",\n",
       "      \"permissions\": null,\n",
       "      \"ready\": true\n",
       "    },\n",
       "    {\n",
       "      \"created\": null,\n",
       "      \"id\": \"code-search-ada-code-001\",\n",
       "      \"object\": \"engine\",\n",
       "      \"owner\": \"openai-dev\",\n",
       "      \"permissions\": null,\n",
       "      \"ready\": true\n",
       "    },\n",
       "    {\n",
       "      \"created\": null,\n",
       "      \"id\": \"babbage-code-search-code\",\n",
       "      \"object\": \"engine\",\n",
       "      \"owner\": \"openai-dev\",\n",
       "      \"permissions\": null,\n",
       "      \"ready\": true\n",
       "    },\n",
       "    {\n",
       "      \"created\": null,\n",
       "      \"id\": \"text-search-curie-doc-001\",\n",
       "      \"object\": \"engine\",\n",
       "      \"owner\": \"openai-dev\",\n",
       "      \"permissions\": null,\n",
       "      \"ready\": true\n",
       "    },\n",
       "    {\n",
       "      \"created\": null,\n",
       "      \"id\": \"curie-search-query\",\n",
       "      \"object\": \"engine\",\n",
       "      \"owner\": \"openai-dev\",\n",
       "      \"permissions\": null,\n",
       "      \"ready\": true\n",
       "    },\n",
       "    {\n",
       "      \"created\": null,\n",
       "      \"id\": \"ada-code-search-text\",\n",
       "      \"object\": \"engine\",\n",
       "      \"owner\": \"openai-dev\",\n",
       "      \"permissions\": null,\n",
       "      \"ready\": true\n",
       "    },\n",
       "    {\n",
       "      \"created\": null,\n",
       "      \"id\": \"code-search-ada-text-001\",\n",
       "      \"object\": \"engine\",\n",
       "      \"owner\": \"openai-dev\",\n",
       "      \"permissions\": null,\n",
       "      \"ready\": true\n",
       "    },\n",
       "    {\n",
       "      \"created\": null,\n",
       "      \"id\": \"curie-search-document\",\n",
       "      \"object\": \"engine\",\n",
       "      \"owner\": \"openai-dev\",\n",
       "      \"permissions\": null,\n",
       "      \"ready\": true\n",
       "    },\n",
       "    {\n",
       "      \"created\": null,\n",
       "      \"id\": \"davinci-similarity\",\n",
       "      \"object\": \"engine\",\n",
       "      \"owner\": \"openai-dev\",\n",
       "      \"permissions\": null,\n",
       "      \"ready\": true\n",
       "    },\n",
       "    {\n",
       "      \"created\": null,\n",
       "      \"id\": \"davinci\",\n",
       "      \"object\": \"engine\",\n",
       "      \"owner\": \"openai\",\n",
       "      \"permissions\": null,\n",
       "      \"ready\": true\n",
       "    },\n",
       "    {\n",
       "      \"created\": null,\n",
       "      \"id\": \"code-search-babbage-code-001\",\n",
       "      \"object\": \"engine\",\n",
       "      \"owner\": \"openai-dev\",\n",
       "      \"permissions\": null,\n",
       "      \"ready\": true\n",
       "    },\n",
       "    {\n",
       "      \"created\": null,\n",
       "      \"id\": \"text-search-davinci-query-001\",\n",
       "      \"object\": \"engine\",\n",
       "      \"owner\": \"openai-dev\",\n",
       "      \"permissions\": null,\n",
       "      \"ready\": true\n",
       "    },\n",
       "    {\n",
       "      \"created\": null,\n",
       "      \"id\": \"ada\",\n",
       "      \"object\": \"engine\",\n",
       "      \"owner\": \"openai\",\n",
       "      \"permissions\": null,\n",
       "      \"ready\": true\n",
       "    },\n",
       "    {\n",
       "      \"created\": null,\n",
       "      \"id\": \"text-search-ada-query-001\",\n",
       "      \"object\": \"engine\",\n",
       "      \"owner\": \"openai-dev\",\n",
       "      \"permissions\": null,\n",
       "      \"ready\": true\n",
       "    },\n",
       "    {\n",
       "      \"created\": null,\n",
       "      \"id\": \"ada-code-search-code\",\n",
       "      \"object\": \"engine\",\n",
       "      \"owner\": \"openai-dev\",\n",
       "      \"permissions\": null,\n",
       "      \"ready\": true\n",
       "    },\n",
       "    {\n",
       "      \"created\": null,\n",
       "      \"id\": \"davinci-search-query\",\n",
       "      \"object\": \"engine\",\n",
       "      \"owner\": \"openai-dev\",\n",
       "      \"permissions\": null,\n",
       "      \"ready\": true\n",
       "    },\n",
       "    {\n",
       "      \"created\": null,\n",
       "      \"id\": \"text-similarity-ada-001\",\n",
       "      \"object\": \"engine\",\n",
       "      \"owner\": \"openai-dev\",\n",
       "      \"permissions\": null,\n",
       "      \"ready\": true\n",
       "    },\n",
       "    {\n",
       "      \"created\": null,\n",
       "      \"id\": \"ada-similarity\",\n",
       "      \"object\": \"engine\",\n",
       "      \"owner\": \"openai-dev\",\n",
       "      \"permissions\": null,\n",
       "      \"ready\": true\n",
       "    },\n",
       "    {\n",
       "      \"created\": null,\n",
       "      \"id\": \"babbage-similarity\",\n",
       "      \"object\": \"engine\",\n",
       "      \"owner\": \"openai-dev\",\n",
       "      \"permissions\": null,\n",
       "      \"ready\": true\n",
       "    },\n",
       "    {\n",
       "      \"created\": null,\n",
       "      \"id\": \"code-search-babbage-text-001\",\n",
       "      \"object\": \"engine\",\n",
       "      \"owner\": \"openai-dev\",\n",
       "      \"permissions\": null,\n",
       "      \"ready\": true\n",
       "    },\n",
       "    {\n",
       "      \"created\": null,\n",
       "      \"id\": \"text-similarity-davinci-001\",\n",
       "      \"object\": \"engine\",\n",
       "      \"owner\": \"openai-dev\",\n",
       "      \"permissions\": null,\n",
       "      \"ready\": true\n",
       "    },\n",
       "    {\n",
       "      \"created\": null,\n",
       "      \"id\": \"text-davinci-insert-002\",\n",
       "      \"object\": \"engine\",\n",
       "      \"owner\": \"openai\",\n",
       "      \"permissions\": null,\n",
       "      \"ready\": true\n",
       "    },\n",
       "    {\n",
       "      \"created\": null,\n",
       "      \"id\": \"text-search-curie-query-001\",\n",
       "      \"object\": \"engine\",\n",
       "      \"owner\": \"openai-dev\",\n",
       "      \"permissions\": null,\n",
       "      \"ready\": true\n",
       "    },\n",
       "    {\n",
       "      \"created\": null,\n",
       "      \"id\": \"text-curie-001\",\n",
       "      \"object\": \"engine\",\n",
       "      \"owner\": \"openai\",\n",
       "      \"permissions\": null,\n",
       "      \"ready\": true\n",
       "    },\n",
       "    {\n",
       "      \"created\": null,\n",
       "      \"id\": \"text-davinci-edit-001\",\n",
       "      \"object\": \"engine\",\n",
       "      \"owner\": \"openai\",\n",
       "      \"permissions\": null,\n",
       "      \"ready\": true\n",
       "    },\n",
       "    {\n",
       "      \"created\": null,\n",
       "      \"id\": \"babbage\",\n",
       "      \"object\": \"engine\",\n",
       "      \"owner\": \"openai\",\n",
       "      \"permissions\": null,\n",
       "      \"ready\": true\n",
       "    }\n",
       "  ],\n",
       "  \"object\": \"list\"\n",
       "}"
      ]
     },
     "execution_count": 184,
     "metadata": {},
     "output_type": "execute_result"
    }
   ],
   "source": [
    "engine_list"
   ]
  },
  {
   "cell_type": "code",
   "execution_count": null,
   "id": "7656b4e9",
   "metadata": {},
   "outputs": [],
   "source": [
    "response = openai.Completion.create(engine = \"davinci\", \n",
    "                                    prompt = subject_matter[1][0:2049],\n",
    "                                    temperature = 0.3,\n",
    "                                    top_p = 1,\n",
    "                                    frequency_penalty = 0,\n",
    "                                    presence_penalty = 0)\n",
    "print(response[\"choices\"][0][\"text\"])"
   ]
  },
  {
   "cell_type": "code",
   "execution_count": null,
   "id": "bf93e095",
   "metadata": {},
   "outputs": [],
   "source": [
    "response = openai.Completion.create(engine = \"davinci\", \n",
    "                                    prompt = subject_matter[2][0:2049],\n",
    "                                    temperature = 0.3,\n",
    "                                    top_p = 1,\n",
    "                                    frequency_penalty = 0,\n",
    "                                    presence_penalty = 0)\n",
    "print(response[\"choices\"][0][\"text\"])"
   ]
  },
  {
   "cell_type": "code",
   "execution_count": null,
   "id": "730872b0",
   "metadata": {},
   "outputs": [],
   "source": [
    "# Iterate\n",
    "#n = 1\n",
    "\n",
    "#for topic in subject_matter:\n",
    "        \n",
    "#    response = openai.Completion.create(engine = \"davinci\", \n",
    "#                                        prompt = topic[0:2049],\n",
    "#                                        temperature = 0.3,\n",
    "#                                        top_p = 1,\n",
    "#                                        frequency_penalty = 0,\n",
    "#                                        presence_penalty = 0)\n",
    "\n",
    "#    print(f\"Summarizing topic # {n}: {response['choices'][0]['text']}\")\n",
    "    \n",
    "#    n += 1"
   ]
  },
  {
   "cell_type": "markdown",
   "id": "e7806b72",
   "metadata": {},
   "source": [
    "[Back to top...](#top)"
   ]
  },
  {
   "cell_type": "markdown",
   "id": "89987ec3",
   "metadata": {},
   "source": [
    "## FinTech: <a class = \"anchor\" id = \"fintech\"></a>"
   ]
  },
  {
   "cell_type": "code",
   "execution_count": null,
   "id": "d2038d0c",
   "metadata": {},
   "outputs": [],
   "source": []
  },
  {
   "cell_type": "code",
   "execution_count": null,
   "id": "ce121c89",
   "metadata": {},
   "outputs": [],
   "source": []
  },
  {
   "cell_type": "markdown",
   "id": "797a0a18",
   "metadata": {},
   "source": [
    "[Back to top...](#top)"
   ]
  },
  {
   "cell_type": "markdown",
   "id": "79103d8f",
   "metadata": {},
   "source": [
    "## Conclusion: <a class = \"anchor\" id = \"end\"></a>"
   ]
  },
  {
   "cell_type": "code",
   "execution_count": null,
   "id": "907b713f",
   "metadata": {},
   "outputs": [],
   "source": []
  },
  {
   "cell_type": "code",
   "execution_count": null,
   "id": "c3baf181",
   "metadata": {},
   "outputs": [],
   "source": []
  },
  {
   "cell_type": "code",
   "execution_count": null,
   "id": "a7a686ca",
   "metadata": {},
   "outputs": [],
   "source": []
  },
  {
   "cell_type": "code",
   "execution_count": null,
   "id": "1bc73c94",
   "metadata": {},
   "outputs": [],
   "source": []
  },
  {
   "cell_type": "code",
   "execution_count": null,
   "id": "121f5951",
   "metadata": {},
   "outputs": [],
   "source": []
  },
  {
   "cell_type": "code",
   "execution_count": null,
   "id": "1955bc79",
   "metadata": {},
   "outputs": [],
   "source": []
  },
  {
   "cell_type": "code",
   "execution_count": null,
   "id": "7ef97eb8",
   "metadata": {},
   "outputs": [],
   "source": []
  },
  {
   "cell_type": "code",
   "execution_count": null,
   "id": "375b9843",
   "metadata": {},
   "outputs": [],
   "source": []
  },
  {
   "cell_type": "markdown",
   "id": "507c5027",
   "metadata": {},
   "source": [
    "[Back to top...](#top)"
   ]
  }
 ],
 "metadata": {
  "kernelspec": {
   "display_name": "Python 3 (ipykernel)",
   "language": "python",
   "name": "python3"
  },
  "language_info": {
   "codemirror_mode": {
    "name": "ipython",
    "version": 3
   },
   "file_extension": ".py",
   "mimetype": "text/x-python",
   "name": "python",
   "nbconvert_exporter": "python",
   "pygments_lexer": "ipython3",
   "version": "3.9.12"
  }
 },
 "nbformat": 4,
 "nbformat_minor": 5
}
